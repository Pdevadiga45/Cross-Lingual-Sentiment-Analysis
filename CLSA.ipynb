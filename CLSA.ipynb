{
 "cells": [
  {
   "cell_type": "code",
   "execution_count": 1,
   "id": "7b9bc514-1db7-49d8-af05-76a45b6ecdd2",
   "metadata": {},
   "outputs": [
    {
     "name": "stdout",
     "output_type": "stream",
     "text": [
      "Requirement already satisfied: pyarrow==15.0.0 in /root/miniconda3/envs/py3.10/lib/python3.10/site-packages (15.0.0)\n",
      "Requirement already satisfied: numpy<2,>=1.16.6 in /root/miniconda3/envs/py3.10/lib/python3.10/site-packages (from pyarrow==15.0.0) (1.24.3)\n",
      "\u001b[33mWARNING: Running pip as the 'root' user can result in broken permissions and conflicting behaviour with the system package manager, possibly rendering your system unusable.It is recommended to use a virtual environment instead: https://pip.pypa.io/warnings/venv. Use the --root-user-action option if you know what you are doing and want to suppress this warning.\u001b[0m\u001b[33m\n",
      "\u001b[0mRequirement already satisfied: numpy==1.24.3 in /root/miniconda3/envs/py3.10/lib/python3.10/site-packages (1.24.3)\n",
      "\u001b[33mWARNING: Running pip as the 'root' user can result in broken permissions and conflicting behaviour with the system package manager, possibly rendering your system unusable.It is recommended to use a virtual environment instead: https://pip.pypa.io/warnings/venv. Use the --root-user-action option if you know what you are doing and want to suppress this warning.\u001b[0m\u001b[33m\n",
      "\u001b[0mRequirement already satisfied: torch in /root/miniconda3/envs/py3.10/lib/python3.10/site-packages (2.4.0)\n",
      "Requirement already satisfied: filelock in /root/miniconda3/envs/py3.10/lib/python3.10/site-packages (from torch) (3.15.4)\n",
      "Requirement already satisfied: typing-extensions>=4.8.0 in /root/miniconda3/envs/py3.10/lib/python3.10/site-packages (from torch) (4.12.2)\n",
      "Requirement already satisfied: sympy in /root/miniconda3/envs/py3.10/lib/python3.10/site-packages (from torch) (1.13.2)\n",
      "Requirement already satisfied: networkx in /root/miniconda3/envs/py3.10/lib/python3.10/site-packages (from torch) (3.3)\n",
      "Requirement already satisfied: jinja2 in /root/miniconda3/envs/py3.10/lib/python3.10/site-packages (from torch) (3.1.4)\n",
      "Requirement already satisfied: fsspec in /root/miniconda3/envs/py3.10/lib/python3.10/site-packages (from torch) (2024.6.1)\n",
      "Requirement already satisfied: nvidia-cuda-nvrtc-cu12==12.1.105 in /root/miniconda3/envs/py3.10/lib/python3.10/site-packages (from torch) (12.1.105)\n",
      "Requirement already satisfied: nvidia-cuda-runtime-cu12==12.1.105 in /root/miniconda3/envs/py3.10/lib/python3.10/site-packages (from torch) (12.1.105)\n",
      "Requirement already satisfied: nvidia-cuda-cupti-cu12==12.1.105 in /root/miniconda3/envs/py3.10/lib/python3.10/site-packages (from torch) (12.1.105)\n",
      "Requirement already satisfied: nvidia-cudnn-cu12==9.1.0.70 in /root/miniconda3/envs/py3.10/lib/python3.10/site-packages (from torch) (9.1.0.70)\n",
      "Requirement already satisfied: nvidia-cublas-cu12==12.1.3.1 in /root/miniconda3/envs/py3.10/lib/python3.10/site-packages (from torch) (12.1.3.1)\n",
      "Requirement already satisfied: nvidia-cufft-cu12==11.0.2.54 in /root/miniconda3/envs/py3.10/lib/python3.10/site-packages (from torch) (11.0.2.54)\n",
      "Requirement already satisfied: nvidia-curand-cu12==10.3.2.106 in /root/miniconda3/envs/py3.10/lib/python3.10/site-packages (from torch) (10.3.2.106)\n",
      "Requirement already satisfied: nvidia-cusolver-cu12==11.4.5.107 in /root/miniconda3/envs/py3.10/lib/python3.10/site-packages (from torch) (11.4.5.107)\n",
      "Requirement already satisfied: nvidia-cusparse-cu12==12.1.0.106 in /root/miniconda3/envs/py3.10/lib/python3.10/site-packages (from torch) (12.1.0.106)\n",
      "Requirement already satisfied: nvidia-nccl-cu12==2.20.5 in /root/miniconda3/envs/py3.10/lib/python3.10/site-packages (from torch) (2.20.5)\n",
      "Requirement already satisfied: nvidia-nvtx-cu12==12.1.105 in /root/miniconda3/envs/py3.10/lib/python3.10/site-packages (from torch) (12.1.105)\n",
      "Requirement already satisfied: triton==3.0.0 in /root/miniconda3/envs/py3.10/lib/python3.10/site-packages (from torch) (3.0.0)\n",
      "Requirement already satisfied: nvidia-nvjitlink-cu12 in /root/miniconda3/envs/py3.10/lib/python3.10/site-packages (from nvidia-cusolver-cu12==11.4.5.107->torch) (12.6.20)\n",
      "Requirement already satisfied: MarkupSafe>=2.0 in /root/miniconda3/envs/py3.10/lib/python3.10/site-packages (from jinja2->torch) (2.1.5)\n",
      "Requirement already satisfied: mpmath<1.4,>=1.1.0 in /root/miniconda3/envs/py3.10/lib/python3.10/site-packages (from sympy->torch) (1.3.0)\n",
      "\u001b[33mWARNING: Running pip as the 'root' user can result in broken permissions and conflicting behaviour with the system package manager, possibly rendering your system unusable.It is recommended to use a virtual environment instead: https://pip.pypa.io/warnings/venv. Use the --root-user-action option if you know what you are doing and want to suppress this warning.\u001b[0m\u001b[33m\n",
      "\u001b[0mRequirement already satisfied: accelerate in /root/miniconda3/envs/py3.10/lib/python3.10/site-packages (1.3.0)\n",
      "Requirement already satisfied: numpy<3.0.0,>=1.17 in /root/miniconda3/envs/py3.10/lib/python3.10/site-packages (from accelerate) (1.24.3)\n",
      "Requirement already satisfied: packaging>=20.0 in /root/miniconda3/envs/py3.10/lib/python3.10/site-packages (from accelerate) (24.1)\n",
      "Requirement already satisfied: psutil in /root/miniconda3/envs/py3.10/lib/python3.10/site-packages (from accelerate) (6.0.0)\n",
      "Requirement already satisfied: pyyaml in /root/miniconda3/envs/py3.10/lib/python3.10/site-packages (from accelerate) (6.0.2)\n",
      "Requirement already satisfied: torch>=2.0.0 in /root/miniconda3/envs/py3.10/lib/python3.10/site-packages (from accelerate) (2.4.0)\n",
      "Requirement already satisfied: huggingface-hub>=0.21.0 in /root/miniconda3/envs/py3.10/lib/python3.10/site-packages (from accelerate) (0.24.5)\n",
      "Requirement already satisfied: safetensors>=0.4.3 in /root/miniconda3/envs/py3.10/lib/python3.10/site-packages (from accelerate) (0.4.4)\n",
      "Requirement already satisfied: filelock in /root/miniconda3/envs/py3.10/lib/python3.10/site-packages (from huggingface-hub>=0.21.0->accelerate) (3.15.4)\n",
      "Requirement already satisfied: fsspec>=2023.5.0 in /root/miniconda3/envs/py3.10/lib/python3.10/site-packages (from huggingface-hub>=0.21.0->accelerate) (2024.6.1)\n",
      "Requirement already satisfied: requests in /root/miniconda3/envs/py3.10/lib/python3.10/site-packages (from huggingface-hub>=0.21.0->accelerate) (2.32.3)\n",
      "Requirement already satisfied: tqdm>=4.42.1 in /root/miniconda3/envs/py3.10/lib/python3.10/site-packages (from huggingface-hub>=0.21.0->accelerate) (4.66.5)\n",
      "Requirement already satisfied: typing-extensions>=3.7.4.3 in /root/miniconda3/envs/py3.10/lib/python3.10/site-packages (from huggingface-hub>=0.21.0->accelerate) (4.12.2)\n",
      "Requirement already satisfied: sympy in /root/miniconda3/envs/py3.10/lib/python3.10/site-packages (from torch>=2.0.0->accelerate) (1.13.2)\n",
      "Requirement already satisfied: networkx in /root/miniconda3/envs/py3.10/lib/python3.10/site-packages (from torch>=2.0.0->accelerate) (3.3)\n",
      "Requirement already satisfied: jinja2 in /root/miniconda3/envs/py3.10/lib/python3.10/site-packages (from torch>=2.0.0->accelerate) (3.1.4)\n",
      "Requirement already satisfied: nvidia-cuda-nvrtc-cu12==12.1.105 in /root/miniconda3/envs/py3.10/lib/python3.10/site-packages (from torch>=2.0.0->accelerate) (12.1.105)\n",
      "Requirement already satisfied: nvidia-cuda-runtime-cu12==12.1.105 in /root/miniconda3/envs/py3.10/lib/python3.10/site-packages (from torch>=2.0.0->accelerate) (12.1.105)\n",
      "Requirement already satisfied: nvidia-cuda-cupti-cu12==12.1.105 in /root/miniconda3/envs/py3.10/lib/python3.10/site-packages (from torch>=2.0.0->accelerate) (12.1.105)\n",
      "Requirement already satisfied: nvidia-cudnn-cu12==9.1.0.70 in /root/miniconda3/envs/py3.10/lib/python3.10/site-packages (from torch>=2.0.0->accelerate) (9.1.0.70)\n",
      "Requirement already satisfied: nvidia-cublas-cu12==12.1.3.1 in /root/miniconda3/envs/py3.10/lib/python3.10/site-packages (from torch>=2.0.0->accelerate) (12.1.3.1)\n",
      "Requirement already satisfied: nvidia-cufft-cu12==11.0.2.54 in /root/miniconda3/envs/py3.10/lib/python3.10/site-packages (from torch>=2.0.0->accelerate) (11.0.2.54)\n",
      "Requirement already satisfied: nvidia-curand-cu12==10.3.2.106 in /root/miniconda3/envs/py3.10/lib/python3.10/site-packages (from torch>=2.0.0->accelerate) (10.3.2.106)\n",
      "Requirement already satisfied: nvidia-cusolver-cu12==11.4.5.107 in /root/miniconda3/envs/py3.10/lib/python3.10/site-packages (from torch>=2.0.0->accelerate) (11.4.5.107)\n",
      "Requirement already satisfied: nvidia-cusparse-cu12==12.1.0.106 in /root/miniconda3/envs/py3.10/lib/python3.10/site-packages (from torch>=2.0.0->accelerate) (12.1.0.106)\n",
      "Requirement already satisfied: nvidia-nccl-cu12==2.20.5 in /root/miniconda3/envs/py3.10/lib/python3.10/site-packages (from torch>=2.0.0->accelerate) (2.20.5)\n",
      "Requirement already satisfied: nvidia-nvtx-cu12==12.1.105 in /root/miniconda3/envs/py3.10/lib/python3.10/site-packages (from torch>=2.0.0->accelerate) (12.1.105)\n",
      "Requirement already satisfied: triton==3.0.0 in /root/miniconda3/envs/py3.10/lib/python3.10/site-packages (from torch>=2.0.0->accelerate) (3.0.0)\n",
      "Requirement already satisfied: nvidia-nvjitlink-cu12 in /root/miniconda3/envs/py3.10/lib/python3.10/site-packages (from nvidia-cusolver-cu12==11.4.5.107->torch>=2.0.0->accelerate) (12.6.20)\n",
      "Requirement already satisfied: MarkupSafe>=2.0 in /root/miniconda3/envs/py3.10/lib/python3.10/site-packages (from jinja2->torch>=2.0.0->accelerate) (2.1.5)\n",
      "Requirement already satisfied: charset-normalizer<4,>=2 in /root/miniconda3/envs/py3.10/lib/python3.10/site-packages (from requests->huggingface-hub>=0.21.0->accelerate) (3.3.2)\n",
      "Requirement already satisfied: idna<4,>=2.5 in /root/miniconda3/envs/py3.10/lib/python3.10/site-packages (from requests->huggingface-hub>=0.21.0->accelerate) (3.7)\n",
      "Requirement already satisfied: urllib3<3,>=1.21.1 in /root/miniconda3/envs/py3.10/lib/python3.10/site-packages (from requests->huggingface-hub>=0.21.0->accelerate) (2.2.2)\n",
      "Requirement already satisfied: certifi>=2017.4.17 in /root/miniconda3/envs/py3.10/lib/python3.10/site-packages (from requests->huggingface-hub>=0.21.0->accelerate) (2024.7.4)\n",
      "Requirement already satisfied: mpmath<1.4,>=1.1.0 in /root/miniconda3/envs/py3.10/lib/python3.10/site-packages (from sympy->torch>=2.0.0->accelerate) (1.3.0)\n",
      "\u001b[33mWARNING: Running pip as the 'root' user can result in broken permissions and conflicting behaviour with the system package manager, possibly rendering your system unusable.It is recommended to use a virtual environment instead: https://pip.pypa.io/warnings/venv. Use the --root-user-action option if you know what you are doing and want to suppress this warning.\u001b[0m\u001b[33m\n",
      "\u001b[0mRequirement already satisfied: matplotlib in /root/miniconda3/envs/py3.10/lib/python3.10/site-packages (3.10.0)\n",
      "Requirement already satisfied: contourpy>=1.0.1 in /root/miniconda3/envs/py3.10/lib/python3.10/site-packages (from matplotlib) (1.3.1)\n",
      "Requirement already satisfied: cycler>=0.10 in /root/miniconda3/envs/py3.10/lib/python3.10/site-packages (from matplotlib) (0.12.1)\n",
      "Requirement already satisfied: fonttools>=4.22.0 in /root/miniconda3/envs/py3.10/lib/python3.10/site-packages (from matplotlib) (4.55.8)\n",
      "Requirement already satisfied: kiwisolver>=1.3.1 in /root/miniconda3/envs/py3.10/lib/python3.10/site-packages (from matplotlib) (1.4.8)\n",
      "Requirement already satisfied: numpy>=1.23 in /root/miniconda3/envs/py3.10/lib/python3.10/site-packages (from matplotlib) (1.24.3)\n",
      "Requirement already satisfied: packaging>=20.0 in /root/miniconda3/envs/py3.10/lib/python3.10/site-packages (from matplotlib) (24.1)\n",
      "Requirement already satisfied: pillow>=8 in /root/miniconda3/envs/py3.10/lib/python3.10/site-packages (from matplotlib) (10.4.0)\n",
      "Requirement already satisfied: pyparsing>=2.3.1 in /root/miniconda3/envs/py3.10/lib/python3.10/site-packages (from matplotlib) (3.2.1)\n",
      "Requirement already satisfied: python-dateutil>=2.7 in /root/miniconda3/envs/py3.10/lib/python3.10/site-packages (from matplotlib) (2.9.0.post0)\n",
      "Requirement already satisfied: six>=1.5 in /root/miniconda3/envs/py3.10/lib/python3.10/site-packages (from python-dateutil>=2.7->matplotlib) (1.16.0)\n",
      "\u001b[33mWARNING: Running pip as the 'root' user can result in broken permissions and conflicting behaviour with the system package manager, possibly rendering your system unusable.It is recommended to use a virtual environment instead: https://pip.pypa.io/warnings/venv. Use the --root-user-action option if you know what you are doing and want to suppress this warning.\u001b[0m\u001b[33m\n",
      "\u001b[0mRequirement already satisfied: scikit-learn in /root/miniconda3/envs/py3.10/lib/python3.10/site-packages (1.6.1)\n",
      "Requirement already satisfied: numpy>=1.19.5 in /root/miniconda3/envs/py3.10/lib/python3.10/site-packages (from scikit-learn) (1.24.3)\n",
      "Requirement already satisfied: scipy>=1.6.0 in /root/miniconda3/envs/py3.10/lib/python3.10/site-packages (from scikit-learn) (1.15.1)\n",
      "Requirement already satisfied: joblib>=1.2.0 in /root/miniconda3/envs/py3.10/lib/python3.10/site-packages (from scikit-learn) (1.4.2)\n",
      "Requirement already satisfied: threadpoolctl>=3.1.0 in /root/miniconda3/envs/py3.10/lib/python3.10/site-packages (from scikit-learn) (3.5.0)\n",
      "\u001b[33mWARNING: Running pip as the 'root' user can result in broken permissions and conflicting behaviour with the system package manager, possibly rendering your system unusable.It is recommended to use a virtual environment instead: https://pip.pypa.io/warnings/venv. Use the --root-user-action option if you know what you are doing and want to suppress this warning.\u001b[0m\u001b[33m\n",
      "\u001b[0mRequirement already satisfied: torchmetrics in /root/miniconda3/envs/py3.10/lib/python3.10/site-packages (1.6.1)\n",
      "Requirement already satisfied: numpy>1.20.0 in /root/miniconda3/envs/py3.10/lib/python3.10/site-packages (from torchmetrics) (1.24.3)\n",
      "Requirement already satisfied: packaging>17.1 in /root/miniconda3/envs/py3.10/lib/python3.10/site-packages (from torchmetrics) (24.1)\n",
      "Requirement already satisfied: torch>=2.0.0 in /root/miniconda3/envs/py3.10/lib/python3.10/site-packages (from torchmetrics) (2.4.0)\n",
      "Requirement already satisfied: lightning-utilities>=0.8.0 in /root/miniconda3/envs/py3.10/lib/python3.10/site-packages (from torchmetrics) (0.12.0)\n",
      "Requirement already satisfied: setuptools in /root/miniconda3/envs/py3.10/lib/python3.10/site-packages (from lightning-utilities>=0.8.0->torchmetrics) (72.1.0)\n",
      "Requirement already satisfied: typing_extensions in /root/miniconda3/envs/py3.10/lib/python3.10/site-packages (from lightning-utilities>=0.8.0->torchmetrics) (4.12.2)\n",
      "Requirement already satisfied: filelock in /root/miniconda3/envs/py3.10/lib/python3.10/site-packages (from torch>=2.0.0->torchmetrics) (3.15.4)\n",
      "Requirement already satisfied: sympy in /root/miniconda3/envs/py3.10/lib/python3.10/site-packages (from torch>=2.0.0->torchmetrics) (1.13.2)\n",
      "Requirement already satisfied: networkx in /root/miniconda3/envs/py3.10/lib/python3.10/site-packages (from torch>=2.0.0->torchmetrics) (3.3)\n",
      "Requirement already satisfied: jinja2 in /root/miniconda3/envs/py3.10/lib/python3.10/site-packages (from torch>=2.0.0->torchmetrics) (3.1.4)\n",
      "Requirement already satisfied: fsspec in /root/miniconda3/envs/py3.10/lib/python3.10/site-packages (from torch>=2.0.0->torchmetrics) (2024.6.1)\n",
      "Requirement already satisfied: nvidia-cuda-nvrtc-cu12==12.1.105 in /root/miniconda3/envs/py3.10/lib/python3.10/site-packages (from torch>=2.0.0->torchmetrics) (12.1.105)\n",
      "Requirement already satisfied: nvidia-cuda-runtime-cu12==12.1.105 in /root/miniconda3/envs/py3.10/lib/python3.10/site-packages (from torch>=2.0.0->torchmetrics) (12.1.105)\n",
      "Requirement already satisfied: nvidia-cuda-cupti-cu12==12.1.105 in /root/miniconda3/envs/py3.10/lib/python3.10/site-packages (from torch>=2.0.0->torchmetrics) (12.1.105)\n",
      "Requirement already satisfied: nvidia-cudnn-cu12==9.1.0.70 in /root/miniconda3/envs/py3.10/lib/python3.10/site-packages (from torch>=2.0.0->torchmetrics) (9.1.0.70)\n",
      "Requirement already satisfied: nvidia-cublas-cu12==12.1.3.1 in /root/miniconda3/envs/py3.10/lib/python3.10/site-packages (from torch>=2.0.0->torchmetrics) (12.1.3.1)\n",
      "Requirement already satisfied: nvidia-cufft-cu12==11.0.2.54 in /root/miniconda3/envs/py3.10/lib/python3.10/site-packages (from torch>=2.0.0->torchmetrics) (11.0.2.54)\n",
      "Requirement already satisfied: nvidia-curand-cu12==10.3.2.106 in /root/miniconda3/envs/py3.10/lib/python3.10/site-packages (from torch>=2.0.0->torchmetrics) (10.3.2.106)\n",
      "Requirement already satisfied: nvidia-cusolver-cu12==11.4.5.107 in /root/miniconda3/envs/py3.10/lib/python3.10/site-packages (from torch>=2.0.0->torchmetrics) (11.4.5.107)\n",
      "Requirement already satisfied: nvidia-cusparse-cu12==12.1.0.106 in /root/miniconda3/envs/py3.10/lib/python3.10/site-packages (from torch>=2.0.0->torchmetrics) (12.1.0.106)\n",
      "Requirement already satisfied: nvidia-nccl-cu12==2.20.5 in /root/miniconda3/envs/py3.10/lib/python3.10/site-packages (from torch>=2.0.0->torchmetrics) (2.20.5)\n",
      "Requirement already satisfied: nvidia-nvtx-cu12==12.1.105 in /root/miniconda3/envs/py3.10/lib/python3.10/site-packages (from torch>=2.0.0->torchmetrics) (12.1.105)\n",
      "Requirement already satisfied: triton==3.0.0 in /root/miniconda3/envs/py3.10/lib/python3.10/site-packages (from torch>=2.0.0->torchmetrics) (3.0.0)\n",
      "Requirement already satisfied: nvidia-nvjitlink-cu12 in /root/miniconda3/envs/py3.10/lib/python3.10/site-packages (from nvidia-cusolver-cu12==11.4.5.107->torch>=2.0.0->torchmetrics) (12.6.20)\n",
      "Requirement already satisfied: MarkupSafe>=2.0 in /root/miniconda3/envs/py3.10/lib/python3.10/site-packages (from jinja2->torch>=2.0.0->torchmetrics) (2.1.5)\n",
      "Requirement already satisfied: mpmath<1.4,>=1.1.0 in /root/miniconda3/envs/py3.10/lib/python3.10/site-packages (from sympy->torch>=2.0.0->torchmetrics) (1.3.0)\n",
      "\u001b[33mWARNING: Running pip as the 'root' user can result in broken permissions and conflicting behaviour with the system package manager, possibly rendering your system unusable.It is recommended to use a virtual environment instead: https://pip.pypa.io/warnings/venv. Use the --root-user-action option if you know what you are doing and want to suppress this warning.\u001b[0m\u001b[33m\n",
      "\u001b[0mRequirement already satisfied: tqdm in /root/miniconda3/envs/py3.10/lib/python3.10/site-packages (4.66.5)\n",
      "\u001b[33mWARNING: Running pip as the 'root' user can result in broken permissions and conflicting behaviour with the system package manager, possibly rendering your system unusable.It is recommended to use a virtual environment instead: https://pip.pypa.io/warnings/venv. Use the --root-user-action option if you know what you are doing and want to suppress this warning.\u001b[0m\u001b[33m\n",
      "\u001b[0mRequirement already satisfied: fsspec in /root/miniconda3/envs/py3.10/lib/python3.10/site-packages (2024.6.1)\n",
      "\u001b[33mWARNING: Running pip as the 'root' user can result in broken permissions and conflicting behaviour with the system package manager, possibly rendering your system unusable.It is recommended to use a virtual environment instead: https://pip.pypa.io/warnings/venv. Use the --root-user-action option if you know what you are doing and want to suppress this warning.\u001b[0m\u001b[33m\n",
      "\u001b[0mRequirement already satisfied: transformers[torch] in /root/miniconda3/envs/py3.10/lib/python3.10/site-packages (4.44.0)\n",
      "Requirement already satisfied: filelock in /root/miniconda3/envs/py3.10/lib/python3.10/site-packages (from transformers[torch]) (3.15.4)\n",
      "Requirement already satisfied: huggingface-hub<1.0,>=0.23.2 in /root/miniconda3/envs/py3.10/lib/python3.10/site-packages (from transformers[torch]) (0.24.5)\n",
      "Requirement already satisfied: numpy>=1.17 in /root/miniconda3/envs/py3.10/lib/python3.10/site-packages (from transformers[torch]) (1.24.3)\n",
      "Requirement already satisfied: packaging>=20.0 in /root/miniconda3/envs/py3.10/lib/python3.10/site-packages (from transformers[torch]) (24.1)\n",
      "Requirement already satisfied: pyyaml>=5.1 in /root/miniconda3/envs/py3.10/lib/python3.10/site-packages (from transformers[torch]) (6.0.2)\n",
      "Requirement already satisfied: regex!=2019.12.17 in /root/miniconda3/envs/py3.10/lib/python3.10/site-packages (from transformers[torch]) (2024.7.24)\n",
      "Requirement already satisfied: requests in /root/miniconda3/envs/py3.10/lib/python3.10/site-packages (from transformers[torch]) (2.32.3)\n",
      "Requirement already satisfied: safetensors>=0.4.1 in /root/miniconda3/envs/py3.10/lib/python3.10/site-packages (from transformers[torch]) (0.4.4)\n",
      "Requirement already satisfied: tokenizers<0.20,>=0.19 in /root/miniconda3/envs/py3.10/lib/python3.10/site-packages (from transformers[torch]) (0.19.1)\n",
      "Requirement already satisfied: tqdm>=4.27 in /root/miniconda3/envs/py3.10/lib/python3.10/site-packages (from transformers[torch]) (4.66.5)\n",
      "Requirement already satisfied: accelerate>=0.21.0 in /root/miniconda3/envs/py3.10/lib/python3.10/site-packages (from transformers[torch]) (1.3.0)\n",
      "Requirement already satisfied: torch in /root/miniconda3/envs/py3.10/lib/python3.10/site-packages (from transformers[torch]) (2.4.0)\n",
      "Requirement already satisfied: psutil in /root/miniconda3/envs/py3.10/lib/python3.10/site-packages (from accelerate>=0.21.0->transformers[torch]) (6.0.0)\n",
      "Requirement already satisfied: fsspec>=2023.5.0 in /root/miniconda3/envs/py3.10/lib/python3.10/site-packages (from huggingface-hub<1.0,>=0.23.2->transformers[torch]) (2024.6.1)\n",
      "Requirement already satisfied: typing-extensions>=3.7.4.3 in /root/miniconda3/envs/py3.10/lib/python3.10/site-packages (from huggingface-hub<1.0,>=0.23.2->transformers[torch]) (4.12.2)\n",
      "Requirement already satisfied: sympy in /root/miniconda3/envs/py3.10/lib/python3.10/site-packages (from torch->transformers[torch]) (1.13.2)\n",
      "Requirement already satisfied: networkx in /root/miniconda3/envs/py3.10/lib/python3.10/site-packages (from torch->transformers[torch]) (3.3)\n",
      "Requirement already satisfied: jinja2 in /root/miniconda3/envs/py3.10/lib/python3.10/site-packages (from torch->transformers[torch]) (3.1.4)\n",
      "Requirement already satisfied: nvidia-cuda-nvrtc-cu12==12.1.105 in /root/miniconda3/envs/py3.10/lib/python3.10/site-packages (from torch->transformers[torch]) (12.1.105)\n",
      "Requirement already satisfied: nvidia-cuda-runtime-cu12==12.1.105 in /root/miniconda3/envs/py3.10/lib/python3.10/site-packages (from torch->transformers[torch]) (12.1.105)\n",
      "Requirement already satisfied: nvidia-cuda-cupti-cu12==12.1.105 in /root/miniconda3/envs/py3.10/lib/python3.10/site-packages (from torch->transformers[torch]) (12.1.105)\n",
      "Requirement already satisfied: nvidia-cudnn-cu12==9.1.0.70 in /root/miniconda3/envs/py3.10/lib/python3.10/site-packages (from torch->transformers[torch]) (9.1.0.70)\n",
      "Requirement already satisfied: nvidia-cublas-cu12==12.1.3.1 in /root/miniconda3/envs/py3.10/lib/python3.10/site-packages (from torch->transformers[torch]) (12.1.3.1)\n",
      "Requirement already satisfied: nvidia-cufft-cu12==11.0.2.54 in /root/miniconda3/envs/py3.10/lib/python3.10/site-packages (from torch->transformers[torch]) (11.0.2.54)\n",
      "Requirement already satisfied: nvidia-curand-cu12==10.3.2.106 in /root/miniconda3/envs/py3.10/lib/python3.10/site-packages (from torch->transformers[torch]) (10.3.2.106)\n",
      "Requirement already satisfied: nvidia-cusolver-cu12==11.4.5.107 in /root/miniconda3/envs/py3.10/lib/python3.10/site-packages (from torch->transformers[torch]) (11.4.5.107)\n",
      "Requirement already satisfied: nvidia-cusparse-cu12==12.1.0.106 in /root/miniconda3/envs/py3.10/lib/python3.10/site-packages (from torch->transformers[torch]) (12.1.0.106)\n",
      "Requirement already satisfied: nvidia-nccl-cu12==2.20.5 in /root/miniconda3/envs/py3.10/lib/python3.10/site-packages (from torch->transformers[torch]) (2.20.5)\n",
      "Requirement already satisfied: nvidia-nvtx-cu12==12.1.105 in /root/miniconda3/envs/py3.10/lib/python3.10/site-packages (from torch->transformers[torch]) (12.1.105)\n",
      "Requirement already satisfied: triton==3.0.0 in /root/miniconda3/envs/py3.10/lib/python3.10/site-packages (from torch->transformers[torch]) (3.0.0)\n",
      "Requirement already satisfied: nvidia-nvjitlink-cu12 in /root/miniconda3/envs/py3.10/lib/python3.10/site-packages (from nvidia-cusolver-cu12==11.4.5.107->torch->transformers[torch]) (12.6.20)\n",
      "Requirement already satisfied: charset-normalizer<4,>=2 in /root/miniconda3/envs/py3.10/lib/python3.10/site-packages (from requests->transformers[torch]) (3.3.2)\n",
      "Requirement already satisfied: idna<4,>=2.5 in /root/miniconda3/envs/py3.10/lib/python3.10/site-packages (from requests->transformers[torch]) (3.7)\n",
      "Requirement already satisfied: urllib3<3,>=1.21.1 in /root/miniconda3/envs/py3.10/lib/python3.10/site-packages (from requests->transformers[torch]) (2.2.2)\n",
      "Requirement already satisfied: certifi>=2017.4.17 in /root/miniconda3/envs/py3.10/lib/python3.10/site-packages (from requests->transformers[torch]) (2024.7.4)\n",
      "Requirement already satisfied: MarkupSafe>=2.0 in /root/miniconda3/envs/py3.10/lib/python3.10/site-packages (from jinja2->torch->transformers[torch]) (2.1.5)\n",
      "Requirement already satisfied: mpmath<1.4,>=1.1.0 in /root/miniconda3/envs/py3.10/lib/python3.10/site-packages (from sympy->torch->transformers[torch]) (1.3.0)\n",
      "\u001b[33mWARNING: Running pip as the 'root' user can result in broken permissions and conflicting behaviour with the system package manager, possibly rendering your system unusable.It is recommended to use a virtual environment instead: https://pip.pypa.io/warnings/venv. Use the --root-user-action option if you know what you are doing and want to suppress this warning.\u001b[0m\u001b[33m\n",
      "\u001b[0mRequirement already satisfied: pandas in /root/miniconda3/envs/py3.10/lib/python3.10/site-packages (2.2.3)\n",
      "Requirement already satisfied: numpy>=1.22.4 in /root/miniconda3/envs/py3.10/lib/python3.10/site-packages (from pandas) (1.24.3)\n",
      "Requirement already satisfied: python-dateutil>=2.8.2 in /root/miniconda3/envs/py3.10/lib/python3.10/site-packages (from pandas) (2.9.0.post0)\n",
      "Requirement already satisfied: pytz>=2020.1 in /root/miniconda3/envs/py3.10/lib/python3.10/site-packages (from pandas) (2024.1)\n",
      "Requirement already satisfied: tzdata>=2022.7 in /root/miniconda3/envs/py3.10/lib/python3.10/site-packages (from pandas) (2024.1)\n",
      "Requirement already satisfied: six>=1.5 in /root/miniconda3/envs/py3.10/lib/python3.10/site-packages (from python-dateutil>=2.8.2->pandas) (1.16.0)\n",
      "\u001b[33mWARNING: Running pip as the 'root' user can result in broken permissions and conflicting behaviour with the system package manager, possibly rendering your system unusable.It is recommended to use a virtual environment instead: https://pip.pypa.io/warnings/venv. Use the --root-user-action option if you know what you are doing and want to suppress this warning.\u001b[0m\u001b[33m\n",
      "\u001b[0mRequirement already satisfied: datasets in /root/miniconda3/envs/py3.10/lib/python3.10/site-packages (3.2.0)\n",
      "Requirement already satisfied: filelock in /root/miniconda3/envs/py3.10/lib/python3.10/site-packages (from datasets) (3.15.4)\n",
      "Requirement already satisfied: numpy>=1.17 in /root/miniconda3/envs/py3.10/lib/python3.10/site-packages (from datasets) (1.24.3)\n",
      "Requirement already satisfied: pyarrow>=15.0.0 in /root/miniconda3/envs/py3.10/lib/python3.10/site-packages (from datasets) (15.0.0)\n",
      "Requirement already satisfied: dill<0.3.9,>=0.3.0 in /root/miniconda3/envs/py3.10/lib/python3.10/site-packages (from datasets) (0.3.8)\n",
      "Requirement already satisfied: pandas in /root/miniconda3/envs/py3.10/lib/python3.10/site-packages (from datasets) (2.2.3)\n",
      "Requirement already satisfied: requests>=2.32.2 in /root/miniconda3/envs/py3.10/lib/python3.10/site-packages (from datasets) (2.32.3)\n",
      "Requirement already satisfied: tqdm>=4.66.3 in /root/miniconda3/envs/py3.10/lib/python3.10/site-packages (from datasets) (4.66.5)\n",
      "Requirement already satisfied: xxhash in /root/miniconda3/envs/py3.10/lib/python3.10/site-packages (from datasets) (3.5.0)\n",
      "Requirement already satisfied: multiprocess<0.70.17 in /root/miniconda3/envs/py3.10/lib/python3.10/site-packages (from datasets) (0.70.16)\n",
      "Requirement already satisfied: fsspec<=2024.9.0,>=2023.1.0 in /root/miniconda3/envs/py3.10/lib/python3.10/site-packages (from fsspec[http]<=2024.9.0,>=2023.1.0->datasets) (2024.6.1)\n",
      "Requirement already satisfied: aiohttp in /root/miniconda3/envs/py3.10/lib/python3.10/site-packages (from datasets) (3.11.11)\n",
      "Requirement already satisfied: huggingface-hub>=0.23.0 in /root/miniconda3/envs/py3.10/lib/python3.10/site-packages (from datasets) (0.24.5)\n",
      "Requirement already satisfied: packaging in /root/miniconda3/envs/py3.10/lib/python3.10/site-packages (from datasets) (24.1)\n",
      "Requirement already satisfied: pyyaml>=5.1 in /root/miniconda3/envs/py3.10/lib/python3.10/site-packages (from datasets) (6.0.2)\n",
      "Requirement already satisfied: aiohappyeyeballs>=2.3.0 in /root/miniconda3/envs/py3.10/lib/python3.10/site-packages (from aiohttp->datasets) (2.4.4)\n",
      "Requirement already satisfied: aiosignal>=1.1.2 in /root/miniconda3/envs/py3.10/lib/python3.10/site-packages (from aiohttp->datasets) (1.3.2)\n",
      "Requirement already satisfied: async-timeout<6.0,>=4.0 in /root/miniconda3/envs/py3.10/lib/python3.10/site-packages (from aiohttp->datasets) (5.0.1)\n",
      "Requirement already satisfied: attrs>=17.3.0 in /root/miniconda3/envs/py3.10/lib/python3.10/site-packages (from aiohttp->datasets) (24.2.0)\n",
      "Requirement already satisfied: frozenlist>=1.1.1 in /root/miniconda3/envs/py3.10/lib/python3.10/site-packages (from aiohttp->datasets) (1.5.0)\n",
      "Requirement already satisfied: multidict<7.0,>=4.5 in /root/miniconda3/envs/py3.10/lib/python3.10/site-packages (from aiohttp->datasets) (6.1.0)\n",
      "Requirement already satisfied: propcache>=0.2.0 in /root/miniconda3/envs/py3.10/lib/python3.10/site-packages (from aiohttp->datasets) (0.2.1)\n",
      "Requirement already satisfied: yarl<2.0,>=1.17.0 in /root/miniconda3/envs/py3.10/lib/python3.10/site-packages (from aiohttp->datasets) (1.18.3)\n",
      "Requirement already satisfied: typing-extensions>=3.7.4.3 in /root/miniconda3/envs/py3.10/lib/python3.10/site-packages (from huggingface-hub>=0.23.0->datasets) (4.12.2)\n",
      "Requirement already satisfied: charset-normalizer<4,>=2 in /root/miniconda3/envs/py3.10/lib/python3.10/site-packages (from requests>=2.32.2->datasets) (3.3.2)\n",
      "Requirement already satisfied: idna<4,>=2.5 in /root/miniconda3/envs/py3.10/lib/python3.10/site-packages (from requests>=2.32.2->datasets) (3.7)\n",
      "Requirement already satisfied: urllib3<3,>=1.21.1 in /root/miniconda3/envs/py3.10/lib/python3.10/site-packages (from requests>=2.32.2->datasets) (2.2.2)\n",
      "Requirement already satisfied: certifi>=2017.4.17 in /root/miniconda3/envs/py3.10/lib/python3.10/site-packages (from requests>=2.32.2->datasets) (2024.7.4)\n",
      "Requirement already satisfied: python-dateutil>=2.8.2 in /root/miniconda3/envs/py3.10/lib/python3.10/site-packages (from pandas->datasets) (2.9.0.post0)\n",
      "Requirement already satisfied: pytz>=2020.1 in /root/miniconda3/envs/py3.10/lib/python3.10/site-packages (from pandas->datasets) (2024.1)\n",
      "Requirement already satisfied: tzdata>=2022.7 in /root/miniconda3/envs/py3.10/lib/python3.10/site-packages (from pandas->datasets) (2024.1)\n",
      "Requirement already satisfied: six>=1.5 in /root/miniconda3/envs/py3.10/lib/python3.10/site-packages (from python-dateutil>=2.8.2->pandas->datasets) (1.16.0)\n",
      "\u001b[33mWARNING: Running pip as the 'root' user can result in broken permissions and conflicting behaviour with the system package manager, possibly rendering your system unusable.It is recommended to use a virtual environment instead: https://pip.pypa.io/warnings/venv. Use the --root-user-action option if you know what you are doing and want to suppress this warning.\u001b[0m\u001b[33m\n",
      "\u001b[0m"
     ]
    }
   ],
   "source": [
    "!pip install pyarrow==15.0.0\n",
    "!pip install numpy==1.24.3\n",
    "!pip install torch\n",
    "!pip install -U accelerate\n",
    "!pip install matplotlib\n",
    "!pip install scikit-learn\n",
    "!pip install torchmetrics\n",
    "!pip install tqdm\n",
    "!pip install fsspec\n",
    "!pip install transformers[torch]\n",
    "!pip install --upgrade pandas\n",
    "!pip install --upgrade datasets"
   ]
  },
  {
   "cell_type": "code",
   "execution_count": 2,
   "id": "2421f504-0ce2-4899-9f52-4bf7051d9f65",
   "metadata": {},
   "outputs": [],
   "source": [
    "import os\n",
    "import re\n",
    "import pandas as pd\n",
    "import matplotlib.pyplot as plt\n",
    "from collections import defaultdict\n",
    "from transformers import AutoTokenizer, AutoModelForSequenceClassification, Trainer, TrainingArguments\n",
    "from transformers import EarlyStoppingCallback\n",
    "from datasets import load_dataset, Dataset, Features, Value, concatenate_datasets\n",
    "from sklearn.model_selection import train_test_split\n",
    "from torch.utils.data import DataLoader\n",
    "os.environ['PYTORCH_CUDA_ALLOC_CONF'] = 'expandable_segments:True'\n",
    "import torch\n",
    "from sklearn.metrics import accuracy_score, f1_score  # For metrics\n",
    "from tqdm.auto import tqdm  # For progress bars\n",
    "\n",
    "from transformers import AutoTokenizer, pipeline\n",
    "from collections import defaultdict"
   ]
  },
  {
   "cell_type": "code",
   "execution_count": 3,
   "id": "19d75850-58c2-44f3-a9a1-60f05935803a",
   "metadata": {},
   "outputs": [],
   "source": [
    "# Visualization Functions\n",
    "def plot_overall_performance(results):\n",
    "    models = list(results.keys())\n",
    "    f1_scores = [metrics[\"f1\"] for metrics in results.values()]\n",
    "    accuracies = [metrics[\"accuracy\"] for metrics in results.values()]  # Extract accuracy\n",
    "\n",
    "    x = range(len(models))  # The x locations for the groups\n",
    "    width = 0.35  # Width of the bars\n",
    "\n",
    "    plt.figure(figsize=(10, 6))\n",
    "    \n",
    "    # Plot F1 scores\n",
    "    plt.bar(x, f1_scores, width, label='F1 Score', color='skyblue')\n",
    "    \n",
    "    # Plot accuracies next to F1 scores\n",
    "    plt.bar([p + width for p in x], accuracies, width, label='Accuracy', color='lightgreen')\n",
    "\n",
    "    plt.title(\"Overall Model Performance (F1 Score and Accuracy)\")\n",
    "    plt.ylabel(\"Score\")\n",
    "    plt.xlabel(\"Models\")\n",
    "    plt.ylim(0, 1)\n",
    "    plt.xticks([p + width / 2 for p in x], models, rotation=45)  # Center the x-ticks\n",
    "    plt.legend()\n",
    "    plt.tight_layout()\n",
    "    plt.show()\n",
    "\n",
    "\n",
    "def plot_multilevel_performance(results):\n",
    "    levels = [\"sentence\", \"text\"]\n",
    "    models = list(results.keys())\n",
    "\n",
    "    x = range(len(models))\n",
    "    width = 0.35\n",
    "\n",
    "    plt.figure(figsize=(10, 6))\n",
    "    for i, level in enumerate(levels):\n",
    "        f1_scores = [results[model][level] for model in models]\n",
    "        plt.bar([pos + i * (width) for pos in x], f1_scores, width, label=level.capitalize())\n",
    "\n",
    "    plt.title(\"Multi-Level Performance Comparison (F1 Score)\")\n",
    "    plt.ylabel(\"F1 Score\")\n",
    "    plt.xlabel(\"Models\")\n",
    "    plt.ylim(0, 1)\n",
    "    plt.xticks([pos + (width) / 2 for pos in x], models, rotation=45)\n",
    "    plt.legend()\n",
    "    plt.tight_layout()\n",
    "    plt.show()\n",
    "\n",
    "\n",
    "def plot_language_performance(results):\n",
    "    languages = list(next(iter(results.values())).keys())\n",
    "    models = list(results.keys())\n",
    "\n",
    "    x = range(len(languages))\n",
    "    width = 0.2\n",
    "\n",
    "    plt.figure(figsize=(12, 6))\n",
    "    for i, model in enumerate(models):\n",
    "        f1_scores = [results[model][lang][\"f1\"] for lang in languages]\n",
    "        plt.bar([pos + i * (width) for pos in x], f1_scores, width, label=model)\n",
    "\n",
    "    plt.title(\"Language-Level Performance Comparison (F1 Score)\")\n",
    "    plt.ylabel(\"F1 Score\")\n",
    "    plt.xlabel(\"Languages\")\n",
    "    plt.ylim(0, 1)\n",
    "    plt.xticks([pos + (len(models) - 1) * (width) / 2 for pos in x], languages, rotation=45)\n",
    "    plt.legend()\n",
    "    plt.tight_layout()\n",
    "    plt.show()"
   ]
  },
  {
   "cell_type": "code",
   "execution_count": 4,
   "id": "07180259-dd34-4fbd-89b1-b96babef1474",
   "metadata": {},
   "outputs": [],
   "source": [
    "def categorize_files(directory):\n",
    "    categorized = {\n",
    "        \"train\": [],\n",
    "        \"dev\": [],\n",
    "        \"test\": {\n",
    "            \"by_level\": {\"sentence\": [], \"text\": []},\n",
    "            \"by_language\": defaultdict(list)\n",
    "        }\n",
    "    }\n",
    "    \n",
    "    split_patterns = {\n",
    "        \"train\": re.compile(r\"\\.train\\.\"), \n",
    "        \"dev\": re.compile(r\"\\.dev\\.\"), \n",
    "        \"test\": re.compile(r\"\\.test\\.\")\n",
    "    }\n",
    "    \n",
    "    level_patterns = {\n",
    "        \"sentence\": re.compile(r\"sentence\"), \n",
    "        \"text\": re.compile(r\"text\")\n",
    "    }\n",
    "\n",
    "    for filename in os.listdir(directory):\n",
    "        filepath = os.path.join(directory, filename)\n",
    "        if os.path.isfile(filepath):\n",
    "            for split, split_pattern in split_patterns.items():\n",
    "                if split_pattern.search(filename):\n",
    "                    if split == \"test\":\n",
    "                        level_assigned = False\n",
    "                        for level, level_pattern in level_patterns.items():\n",
    "                            if level_pattern.search(filename):\n",
    "                                categorized[\"test\"][\"by_level\"][level].append(filepath)\n",
    "                                level_assigned = True\n",
    "                                break\n",
    "                        \n",
    "                        lang_match = re.search(r\"\\.(\\w{2,}-?\\w{0,2})\\.txt$\", filename)\n",
    "                        if lang_match:\n",
    "                            lang = lang_match.group(1)\n",
    "                            categorized[\"test\"][\"by_language\"][lang].append(filepath)\n",
    "                    \n",
    "                    else:\n",
    "                        categorized[split].append(filepath)\n",
    "                    \n",
    "                    break\n",
    "    \n",
    "    return categorized\n"
   ]
  },
  {
   "cell_type": "code",
   "execution_count": 5,
   "id": "7ba70acf-4e67-4b0b-9a71-64eaaa808e18",
   "metadata": {},
   "outputs": [],
   "source": [
    "# Refactored Data Processing Function\n",
    "def process_data(filepaths, tokenizer, label_map):\n",
    "    \"\"\"\n",
    "    Process data from text files into a pandas DataFrame, tokenize, and map labels.\n",
    "    \"\"\"\n",
    "    data = []\n",
    "    for filepath in filepaths:\n",
    "        text = \"\"\n",
    "        label = None\n",
    "\n",
    "        with open(filepath, \"r\", encoding=\"utf-8\") as file:\n",
    "            for line in file:\n",
    "                line = line.strip()\n",
    "                for word in line.split():\n",
    "                    if word.startswith(\"__label__\"):\n",
    "                        label = word.replace(\"__label__\", \"\").strip()\n",
    "                        if text:  # Avoid adding empty texts\n",
    "                            data.append({\"text\": text, \"label\": label})\n",
    "                        text = \"\"\n",
    "                    else:\n",
    "                        text = text.strip() + \" \" + word\n",
    "\n",
    "    # Convert to pandas DataFrame\n",
    "    df = pd.DataFrame(data)\n",
    "\n",
    "    batch_size = 50000  # Adjust batch size as needed\n",
    "    max_length=128\n",
    "\n",
    "    print(\"Tokenizing the data in batches . . .\")\n",
    "\n",
    "    # Tokenize and process in batches directly to reduce memory overhead\n",
    "    all_data = []\n",
    "    for i in range(0, len(df), batch_size):\n",
    "        batch_df = df.iloc[i:i + batch_size].copy(deep=True)\n",
    "        encodings = tokenizer(batch_df[\"text\"].tolist(), truncation=True, max_length=max_length, padding='max_length', return_tensors=\"pt\")\n",
    "\n",
    "        # Add tokenized results and labels directly\n",
    "        batch_df[\"input_ids\"] = encodings[\"input_ids\"].tolist()\n",
    "        batch_df[\"attention_mask\"] = encodings[\"attention_mask\"].tolist()\n",
    "        \n",
    "        # Map labels to integers\n",
    "        batch_df[\"labels\"] = batch_df[\"label\"].apply(lambda x: label_map.get(x, -1)).astype(\"int64\")\n",
    "\n",
    "        # Check if any labels are lists\n",
    "        if batch_df[\"labels\"].apply(lambda x: isinstance(x, list)).any():\n",
    "            print(\"Warning: Some labels are lists. Flattening them.\")\n",
    "            batch_df[\"labels\"] = batch_df[\"labels\"].apply(lambda x: x[0] if isinstance(x, list) else x)\n",
    "\n",
    "        # Ensure that labels are integers\n",
    "        if batch_df[\"labels\"].dtype != 'int64':\n",
    "            print(\"Warning: Labels are not integers, converting.\")\n",
    "            batch_df[\"labels\"] = batch_df[\"labels\"].apply(lambda x: int(x) if isinstance(x, str) else x)\n",
    "\n",
    "        # Remove the original label column if it exists\n",
    "        if \"label\" in batch_df.columns:\n",
    "            batch_df = batch_df.drop(columns=[\"label\"])\n",
    "\n",
    "        all_data.append(Dataset.from_pandas(batch_df))  # Convert each batch to a Dataset\n",
    "\n",
    "    combined_dataset = concatenate_datasets(all_data)\n",
    "\n",
    "    # Exclude text from the training format but retain it in the dataset\n",
    "    combined_dataset.set_format(type=\"torch\", columns=[\"text\", \"input_ids\", \"attention_mask\", \"labels\"])\n",
    "\n",
    "    return combined_dataset"
   ]
  },
  {
   "cell_type": "code",
   "execution_count": 6,
   "id": "b4222f45-186f-4d4a-ae6d-8147172f2f00",
   "metadata": {},
   "outputs": [],
   "source": [
    "def process_data_LLM(filepaths, label_map):\n",
    "    \"\"\"\n",
    "    Process data from text files into a pandas DataFrame and map labels to integers.\n",
    "    \"\"\"\n",
    "    data = []\n",
    "    for filepath in filepaths:\n",
    "        text = \"\"\n",
    "        label = None\n",
    "\n",
    "        with open(filepath, \"r\", encoding=\"utf-8\") as file:\n",
    "            for line in file:\n",
    "                line = line.strip()\n",
    "                for word in line.split():\n",
    "                    if word.startswith(\"__label__\"):\n",
    "                        label = word.replace(\"__label__\", \"\").strip()\n",
    "                        if text:  # Avoid adding empty texts\n",
    "                            data.append({\"text\": text.strip(), \"label\": label})\n",
    "                        text = \"\"\n",
    "                    else:\n",
    "                        text = text.strip() + \" \" + word\n",
    "\n",
    "        # Add the last text if it exists\n",
    "        if text and label:\n",
    "            data.append({\"text\": text.strip(), \"label\": label})\n",
    "\n",
    "    # Convert to pandas DataFrame\n",
    "    df = pd.DataFrame(data)\n",
    "\n",
    "    # Map labels to integers\n",
    "    df[\"labels\"] = df[\"label\"].apply(lambda x: label_map.get(x, -1)).astype(\"int64\")\n",
    "\n",
    "    # Check if any labels are lists\n",
    "    if df[\"labels\"].apply(lambda x: isinstance(x, list)).any():\n",
    "        print(\"Warning: Some labels are lists. Flattening them.\")\n",
    "        df[\"labels\"] = df[\"labels\"].apply(lambda x: x[0] if isinstance(x, list) else x)\n",
    "\n",
    "    # Ensure that labels are integers\n",
    "    if df[\"labels\"].dtype != 'int64':\n",
    "        print(\"Warning: Labels are not integers, converting.\")\n",
    "        df[\"labels\"] = df[\"labels\"].apply(lambda x: int(x) if isinstance(x, str) else x)\n",
    "\n",
    "    # Remove the original label column if it exists\n",
    "    if \"label\" in df.columns:\n",
    "        df = df.drop(columns=[\"label\"])\n",
    "\n",
    "    print(df)\n",
    "\n",
    "    return df  # Return the formatted DataFrame"
   ]
  },
  {
   "cell_type": "code",
   "execution_count": 7,
   "id": "390daf65-5a83-44e6-97e8-dd9fbc56cacb",
   "metadata": {},
   "outputs": [],
   "source": [
    "def fine_tune_model(model_name, train_dataset, dev_dataset):\n",
    "    \"\"\"\n",
    "    Fine-tune a pre-trained model on the train and dev datasets.\n",
    "    \"\"\"\n",
    "    model = AutoModelForSequenceClassification.from_pretrained(model_name, num_labels=4)\n",
    "    device = torch.device(\"cuda\" if torch.cuda.is_available() else \"cpu\")\n",
    "    model.to(device)  # Move model to GPU if available\n",
    "\n",
    "    \n",
    "    training_args = TrainingArguments(\n",
    "        output_dir=f\"./{model_name}-fine-tuned\",\n",
    "        eval_strategy=\"epoch\",\n",
    "        save_strategy=\"epoch\",\n",
    "        num_train_epochs=3,\n",
    "        per_device_train_batch_size=128,\n",
    "        per_device_eval_batch_size=128,\n",
    "        gradient_accumulation_steps=8,\n",
    "        fp16=True,\n",
    "        weight_decay=0.01,\n",
    "        logging_dir=\"./logs\",\n",
    "        logging_steps=100,\n",
    "        save_total_limit=2,\n",
    "        load_best_model_at_end=True,\n",
    "        metric_for_best_model=\"eval_loss\",\n",
    "        run_name=f\"./{model_name}-fine_tuning_run\",\n",
    "    )\n",
    "\n",
    "    trainer = Trainer(\n",
    "        model=model,\n",
    "        args=training_args,    \n",
    "        train_dataset=train_dataset,\n",
    "        eval_dataset=dev_dataset,\n",
    "    )\n",
    "\n",
    "    trainer.train()\n",
    "\n",
    "    return model"
   ]
  },
  {
   "cell_type": "code",
   "execution_count": 8,
   "id": "fa5583ee-b395-4305-8c11-48d90031d015",
   "metadata": {},
   "outputs": [],
   "source": [
    "# Model Evaluation Function\n",
    "def evaluate_model(model_name, model, test_data):\n",
    "    \"\"\"\n",
    "    Evaluate a model on the test dataset.\n",
    "    \"\"\"\n",
    "    def compute_metrics(pred):\n",
    "        preds = pred.predictions.argmax(-1)\n",
    "        labels = pred.label_ids\n",
    "        #debugging\n",
    "        print(pred)\n",
    "        print(preds)\n",
    "        print(labels)\n",
    "        acc = accuracy_score(labels, preds)\n",
    "        f1 = f1_score(labels, preds, average=\"weighted\")\n",
    "        return {\"accuracy\": acc, \"f1\": f1}\n",
    "\n",
    "    # Now, print the features to check\n",
    "    print(f\"Dataset Features: {test_data.features}\")\n",
    "    print(\"Unique labels in test data:\", test_data[\"labels\"].unique())\n",
    "\n",
    "    trainer = Trainer(\n",
    "        model=model,\n",
    "        compute_metrics=compute_metrics\n",
    "    )\n",
    "    results = trainer.evaluate(test_data)\n",
    "    return results[\"eval_accuracy\"], results[\"eval_f1\"]\n"
   ]
  },
  {
   "cell_type": "code",
   "execution_count": 9,
   "id": "f2b0f7f9-afe8-48c4-8397-7916d8e695ea",
   "metadata": {},
   "outputs": [],
   "source": [
    "def compute_f1(predicted_label, true_label):\n",
    "       return f1_score([true_label], [predicted_label], average='weighted')"
   ]
  },
  {
   "cell_type": "code",
   "execution_count": 10,
   "id": "5f217d80-e971-4e5d-a5f2-ebde86229f3e",
   "metadata": {},
   "outputs": [
    {
     "name": "stdout",
     "output_type": "stream",
     "text": [
      "Initializing tokenizer for bert-base-multilingual-cased...\n"
     ]
    },
    {
     "name": "stderr",
     "output_type": "stream",
     "text": [
      "/root/miniconda3/envs/py3.10/lib/python3.10/site-packages/transformers/tokenization_utils_base.py:1601: FutureWarning: `clean_up_tokenization_spaces` was not set. It will be set to `True` by default. This behavior will be depracted in transformers v4.45, and will be then set to `False` by default. For more details check this issue: https://github.com/huggingface/transformers/issues/31884\n",
      "  warnings.warn(\n"
     ]
    },
    {
     "name": "stdout",
     "output_type": "stream",
     "text": [
      "Processing Train Dataset using tokenizer from bert-base-multilingual-cased...\n",
      "Tokenizing the data in batches . . .\n",
      "Processing Validation Dataset . . .\n",
      "Tokenizing the data in batches . . .\n",
      "Dataset Features: {'text': Value(dtype='string', id=None), 'input_ids': Sequence(feature=Value(dtype='int64', id=None), length=-1, id=None), 'attention_mask': Sequence(feature=Value(dtype='int64', id=None), length=-1, id=None), 'labels': Value(dtype='int64', id=None)}\n",
      "Fine-tuning bert-base-multilingual-cased...\n"
     ]
    },
    {
     "name": "stderr",
     "output_type": "stream",
     "text": [
      "A parameter name that contains `beta` will be renamed internally to `bias`. Please use a different name to suppress this warning.\n",
      "A parameter name that contains `gamma` will be renamed internally to `weight`. Please use a different name to suppress this warning.\n",
      "A parameter name that contains `beta` will be renamed internally to `bias`. Please use a different name to suppress this warning.\n",
      "A parameter name that contains `gamma` will be renamed internally to `weight`. Please use a different name to suppress this warning.\n",
      "A parameter name that contains `beta` will be renamed internally to `bias`. Please use a different name to suppress this warning.\n",
      "A parameter name that contains `gamma` will be renamed internally to `weight`. Please use a different name to suppress this warning.\n",
      "A parameter name that contains `beta` will be renamed internally to `bias`. Please use a different name to suppress this warning.\n",
      "A parameter name that contains `gamma` will be renamed internally to `weight`. Please use a different name to suppress this warning.\n",
      "A parameter name that contains `beta` will be renamed internally to `bias`. Please use a different name to suppress this warning.\n",
      "A parameter name that contains `gamma` will be renamed internally to `weight`. Please use a different name to suppress this warning.\n",
      "A parameter name that contains `beta` will be renamed internally to `bias`. Please use a different name to suppress this warning.\n",
      "A parameter name that contains `gamma` will be renamed internally to `weight`. Please use a different name to suppress this warning.\n",
      "A parameter name that contains `beta` will be renamed internally to `bias`. Please use a different name to suppress this warning.\n",
      "A parameter name that contains `gamma` will be renamed internally to `weight`. Please use a different name to suppress this warning.\n",
      "A parameter name that contains `beta` will be renamed internally to `bias`. Please use a different name to suppress this warning.\n",
      "A parameter name that contains `gamma` will be renamed internally to `weight`. Please use a different name to suppress this warning.\n",
      "A parameter name that contains `beta` will be renamed internally to `bias`. Please use a different name to suppress this warning.\n",
      "A parameter name that contains `gamma` will be renamed internally to `weight`. Please use a different name to suppress this warning.\n",
      "A parameter name that contains `beta` will be renamed internally to `bias`. Please use a different name to suppress this warning.\n",
      "A parameter name that contains `gamma` will be renamed internally to `weight`. Please use a different name to suppress this warning.\n",
      "A parameter name that contains `beta` will be renamed internally to `bias`. Please use a different name to suppress this warning.\n",
      "A parameter name that contains `gamma` will be renamed internally to `weight`. Please use a different name to suppress this warning.\n",
      "A parameter name that contains `beta` will be renamed internally to `bias`. Please use a different name to suppress this warning.\n",
      "A parameter name that contains `gamma` will be renamed internally to `weight`. Please use a different name to suppress this warning.\n",
      "A parameter name that contains `beta` will be renamed internally to `bias`. Please use a different name to suppress this warning.\n",
      "A parameter name that contains `gamma` will be renamed internally to `weight`. Please use a different name to suppress this warning.\n",
      "A parameter name that contains `beta` will be renamed internally to `bias`. Please use a different name to suppress this warning.\n",
      "A parameter name that contains `gamma` will be renamed internally to `weight`. Please use a different name to suppress this warning.\n",
      "A parameter name that contains `beta` will be renamed internally to `bias`. Please use a different name to suppress this warning.\n",
      "A parameter name that contains `gamma` will be renamed internally to `weight`. Please use a different name to suppress this warning.\n",
      "A parameter name that contains `beta` will be renamed internally to `bias`. Please use a different name to suppress this warning.\n",
      "A parameter name that contains `gamma` will be renamed internally to `weight`. Please use a different name to suppress this warning.\n",
      "A parameter name that contains `beta` will be renamed internally to `bias`. Please use a different name to suppress this warning.\n",
      "A parameter name that contains `gamma` will be renamed internally to `weight`. Please use a different name to suppress this warning.\n",
      "A parameter name that contains `beta` will be renamed internally to `bias`. Please use a different name to suppress this warning.\n",
      "A parameter name that contains `gamma` will be renamed internally to `weight`. Please use a different name to suppress this warning.\n",
      "A parameter name that contains `beta` will be renamed internally to `bias`. Please use a different name to suppress this warning.\n",
      "A parameter name that contains `gamma` will be renamed internally to `weight`. Please use a different name to suppress this warning.\n",
      "A parameter name that contains `beta` will be renamed internally to `bias`. Please use a different name to suppress this warning.\n",
      "A parameter name that contains `gamma` will be renamed internally to `weight`. Please use a different name to suppress this warning.\n",
      "A parameter name that contains `beta` will be renamed internally to `bias`. Please use a different name to suppress this warning.\n",
      "A parameter name that contains `gamma` will be renamed internally to `weight`. Please use a different name to suppress this warning.\n",
      "A parameter name that contains `beta` will be renamed internally to `bias`. Please use a different name to suppress this warning.\n",
      "A parameter name that contains `gamma` will be renamed internally to `weight`. Please use a different name to suppress this warning.\n",
      "A parameter name that contains `beta` will be renamed internally to `bias`. Please use a different name to suppress this warning.\n",
      "A parameter name that contains `gamma` will be renamed internally to `weight`. Please use a different name to suppress this warning.\n",
      "A parameter name that contains `beta` will be renamed internally to `bias`. Please use a different name to suppress this warning.\n",
      "A parameter name that contains `gamma` will be renamed internally to `weight`. Please use a different name to suppress this warning.\n",
      "A parameter name that contains `beta` will be renamed internally to `bias`. Please use a different name to suppress this warning.\n",
      "A parameter name that contains `gamma` will be renamed internally to `weight`. Please use a different name to suppress this warning.\n",
      "A parameter name that contains `beta` will be renamed internally to `bias`. Please use a different name to suppress this warning.\n",
      "A parameter name that contains `gamma` will be renamed internally to `weight`. Please use a different name to suppress this warning.\n",
      "Some weights of BertForSequenceClassification were not initialized from the model checkpoint at bert-base-multilingual-cased and are newly initialized: ['classifier.bias', 'classifier.weight']\n",
      "You should probably TRAIN this model on a down-stream task to be able to use it for predictions and inference.\n"
     ]
    },
    {
     "data": {
      "text/html": [
       "\n",
       "    <div>\n",
       "      \n",
       "      <progress value='306' max='306' style='width:300px; height:20px; vertical-align: middle;'></progress>\n",
       "      [306/306 04:52, Epoch 2/3]\n",
       "    </div>\n",
       "    <table border=\"1\" class=\"dataframe\">\n",
       "  <thead>\n",
       " <tr style=\"text-align: left;\">\n",
       "      <th>Epoch</th>\n",
       "      <th>Training Loss</th>\n",
       "      <th>Validation Loss</th>\n",
       "    </tr>\n",
       "  </thead>\n",
       "  <tbody>\n",
       "    <tr>\n",
       "      <td>0</td>\n",
       "      <td>0.832100</td>\n",
       "      <td>0.678122</td>\n",
       "    </tr>\n",
       "    <tr>\n",
       "      <td>1</td>\n",
       "      <td>0.595500</td>\n",
       "      <td>0.639283</td>\n",
       "    </tr>\n",
       "    <tr>\n",
       "      <td>2</td>\n",
       "      <td>0.507000</td>\n",
       "      <td>0.646647</td>\n",
       "    </tr>\n",
       "  </tbody>\n",
       "</table><p>"
      ],
      "text/plain": [
       "<IPython.core.display.HTML object>"
      ]
     },
     "metadata": {},
     "output_type": "display_data"
    },
    {
     "name": "stdout",
     "output_type": "stream",
     "text": [
      "Initializing tokenizer for xlm-roberta-base...\n"
     ]
    },
    {
     "name": "stderr",
     "output_type": "stream",
     "text": [
      "/root/miniconda3/envs/py3.10/lib/python3.10/site-packages/transformers/tokenization_utils_base.py:1601: FutureWarning: `clean_up_tokenization_spaces` was not set. It will be set to `True` by default. This behavior will be depracted in transformers v4.45, and will be then set to `False` by default. For more details check this issue: https://github.com/huggingface/transformers/issues/31884\n",
      "  warnings.warn(\n"
     ]
    },
    {
     "name": "stdout",
     "output_type": "stream",
     "text": [
      "Processing Train Dataset using tokenizer from xlm-roberta-base...\n",
      "Tokenizing the data in batches . . .\n",
      "Processing Validation Dataset . . .\n",
      "Tokenizing the data in batches . . .\n",
      "Dataset Features: {'text': Value(dtype='string', id=None), 'input_ids': Sequence(feature=Value(dtype='int64', id=None), length=-1, id=None), 'attention_mask': Sequence(feature=Value(dtype='int64', id=None), length=-1, id=None), 'labels': Value(dtype='int64', id=None)}\n",
      "Fine-tuning xlm-roberta-base...\n"
     ]
    },
    {
     "name": "stderr",
     "output_type": "stream",
     "text": [
      "Some weights of XLMRobertaForSequenceClassification were not initialized from the model checkpoint at xlm-roberta-base and are newly initialized: ['classifier.dense.bias', 'classifier.dense.weight', 'classifier.out_proj.bias', 'classifier.out_proj.weight']\n",
      "You should probably TRAIN this model on a down-stream task to be able to use it for predictions and inference.\n"
     ]
    },
    {
     "data": {
      "text/html": [
       "\n",
       "    <div>\n",
       "      \n",
       "      <progress value='306' max='306' style='width:300px; height:20px; vertical-align: middle;'></progress>\n",
       "      [306/306 06:21, Epoch 2/3]\n",
       "    </div>\n",
       "    <table border=\"1\" class=\"dataframe\">\n",
       "  <thead>\n",
       " <tr style=\"text-align: left;\">\n",
       "      <th>Epoch</th>\n",
       "      <th>Training Loss</th>\n",
       "      <th>Validation Loss</th>\n",
       "    </tr>\n",
       "  </thead>\n",
       "  <tbody>\n",
       "    <tr>\n",
       "      <td>0</td>\n",
       "      <td>0.826500</td>\n",
       "      <td>0.617417</td>\n",
       "    </tr>\n",
       "    <tr>\n",
       "      <td>1</td>\n",
       "      <td>0.536400</td>\n",
       "      <td>0.590744</td>\n",
       "    </tr>\n",
       "    <tr>\n",
       "      <td>2</td>\n",
       "      <td>0.464900</td>\n",
       "      <td>0.575997</td>\n",
       "    </tr>\n",
       "  </tbody>\n",
       "</table><p>"
      ],
      "text/plain": [
       "<IPython.core.display.HTML object>"
      ]
     },
     "metadata": {},
     "output_type": "display_data"
    }
   ],
   "source": [
    "    directory =\"multiemo\"\n",
    "    # Step 1: Categorize files\n",
    "    categorized_files = categorize_files(directory)\n",
    "    \n",
    "    model_names = [\n",
    "            \"bert-base-multilingual-cased\",\n",
    "            \"xlm-roberta-base\",\n",
    "        ]\n",
    "    # Step 2: Define the label map\n",
    "    label_map = {\n",
    "        \"z_minus_m\": 0,\n",
    "        \"z_plus_m\": 1,\n",
    "        \"z_amb\": 2,\n",
    "        \"z_zero\": 3,\n",
    "        \"meta_minus_m\": 0,\n",
    "        \"meta_plus_m\": 1,\n",
    "        \"meta_zero\": 3,\n",
    "        \"meta_amb\": 2\n",
    "    }\n",
    "\n",
    "    # Step 3: Process train and dev datasets and fine-tune models\n",
    "    all_models = {}\n",
    "    tokenizers = {}  # Dictionary to store tokenizers\n",
    "\n",
    "    for model_name in model_names:\n",
    "        # Check if the tokenizer for the model is already initialized\n",
    "            if model_name not in tokenizers:               \n",
    "                print(f\"Initializing tokenizer for {model_name}...\")\n",
    "                tokenizers[model_name] = AutoTokenizer.from_pretrained(model_name)  # Use a tokenizer specific to the model\n",
    "\n",
    "            tokenizer = tokenizers[model_name]  # Get the tokenizer from the dictionary\n",
    "\n",
    "            print(f\"Processing Train Dataset using tokenizer from {model_name}...\")\n",
    "            train_data = process_data(categorized_files[\"train\"], tokenizer, label_map)\n",
    "        \n",
    "            print(\"Processing Validation Dataset . . .\")\n",
    "            dev_data = process_data(categorized_files[\"dev\"], tokenizer, label_map)\n",
    "\n",
    "        # After creating the dataset\n",
    "            print(f\"Dataset Features: {train_data.features}\")\n",
    "\n",
    "            print(f\"Fine-tuning {model_name}...\")\n",
    "            all_models[model_name] = fine_tune_model(model_name, train_data, dev_data)"
   ]
  },
  {
   "cell_type": "code",
   "execution_count": 16,
   "id": "329a30ed-eaee-4fab-999e-201649a0956e",
   "metadata": {},
   "outputs": [
    {
     "data": {
      "text/plain": [
       "{'bert-base-multilingual-cased': BertTokenizerFast(name_or_path='bert-base-multilingual-cased', vocab_size=119547, model_max_length=512, is_fast=True, padding_side='right', truncation_side='right', special_tokens={'unk_token': '[UNK]', 'sep_token': '[SEP]', 'pad_token': '[PAD]', 'cls_token': '[CLS]', 'mask_token': '[MASK]'}, clean_up_tokenization_spaces=True),  added_tokens_decoder={\n",
       " \t0: AddedToken(\"[PAD]\", rstrip=False, lstrip=False, single_word=False, normalized=False, special=True),\n",
       " \t100: AddedToken(\"[UNK]\", rstrip=False, lstrip=False, single_word=False, normalized=False, special=True),\n",
       " \t101: AddedToken(\"[CLS]\", rstrip=False, lstrip=False, single_word=False, normalized=False, special=True),\n",
       " \t102: AddedToken(\"[SEP]\", rstrip=False, lstrip=False, single_word=False, normalized=False, special=True),\n",
       " \t103: AddedToken(\"[MASK]\", rstrip=False, lstrip=False, single_word=False, normalized=False, special=True),\n",
       " },\n",
       " 'xlm-roberta-base': XLMRobertaTokenizerFast(name_or_path='xlm-roberta-base', vocab_size=250002, model_max_length=512, is_fast=True, padding_side='right', truncation_side='right', special_tokens={'bos_token': '<s>', 'eos_token': '</s>', 'unk_token': '<unk>', 'sep_token': '</s>', 'pad_token': '<pad>', 'cls_token': '<s>', 'mask_token': '<mask>'}, clean_up_tokenization_spaces=True),  added_tokens_decoder={\n",
       " \t0: AddedToken(\"<s>\", rstrip=False, lstrip=False, single_word=False, normalized=False, special=True),\n",
       " \t1: AddedToken(\"<pad>\", rstrip=False, lstrip=False, single_word=False, normalized=False, special=True),\n",
       " \t2: AddedToken(\"</s>\", rstrip=False, lstrip=False, single_word=False, normalized=False, special=True),\n",
       " \t3: AddedToken(\"<unk>\", rstrip=False, lstrip=False, single_word=False, normalized=False, special=True),\n",
       " \t250001: AddedToken(\"<mask>\", rstrip=False, lstrip=True, single_word=False, normalized=False, special=True),\n",
       " }}"
      ]
     },
     "execution_count": 16,
     "metadata": {},
     "output_type": "execute_result"
    }
   ],
   "source": [
    "tokenizers"
   ]
  },
  {
   "cell_type": "code",
   "execution_count": 19,
   "id": "cc2c5e87-116e-4a3e-b4e7-1f0d2945778a",
   "metadata": {},
   "outputs": [
    {
     "name": "stdout",
     "output_type": "stream",
     "text": [
      "Evaluation Model Performance . . .\n",
      "Tokenizing the data in batches . . .\n",
      "Dataset Features: {'text': Value(dtype='string', id=None), 'input_ids': Sequence(feature=Value(dtype='int64', id=None), length=-1, id=None), 'attention_mask': Sequence(feature=Value(dtype='int64', id=None), length=-1, id=None), 'labels': Value(dtype='int64', id=None)}\n",
      "Unique labels in test data: tensor([0, 1, 2, 3])\n"
     ]
    },
    {
     "data": {
      "text/html": [
       "\n",
       "    <div>\n",
       "      \n",
       "      <progress value='821' max='821' style='width:300px; height:20px; vertical-align: middle;'></progress>\n",
       "      [821/821 00:04]\n",
       "    </div>\n",
       "    "
      ],
      "text/plain": [
       "<IPython.core.display.HTML object>"
      ]
     },
     "metadata": {},
     "output_type": "display_data"
    },
    {
     "name": "stdout",
     "output_type": "stream",
     "text": [
      "<transformers.trainer_utils.EvalPrediction object at 0x7f56f696e560>\n",
      "[0 1 3 ... 2 0 1]\n",
      "[0 1 3 ... 2 1 1]\n",
      "Tokenizing the data in batches . . .\n",
      "Dataset Features: {'text': Value(dtype='string', id=None), 'input_ids': Sequence(feature=Value(dtype='int64', id=None), length=-1, id=None), 'attention_mask': Sequence(feature=Value(dtype='int64', id=None), length=-1, id=None), 'labels': Value(dtype='int64', id=None)}\n",
      "Unique labels in test data: tensor([0, 1, 2, 3])\n"
     ]
    },
    {
     "data": {
      "text/html": [
       "\n",
       "    <div>\n",
       "      \n",
       "      <progress value='821' max='821' style='width:300px; height:20px; vertical-align: middle;'></progress>\n",
       "      [821/821 00:05]\n",
       "    </div>\n",
       "    "
      ],
      "text/plain": [
       "<IPython.core.display.HTML object>"
      ]
     },
     "metadata": {},
     "output_type": "display_data"
    },
    {
     "name": "stdout",
     "output_type": "stream",
     "text": [
      "<transformers.trainer_utils.EvalPrediction object at 0x7f575e29a020>\n",
      "[0 0 3 ... 2 1 1]\n",
      "[0 1 3 ... 2 1 1]\n",
      "Tokenizing the data in batches . . .\n",
      "Dataset Features: {'text': Value(dtype='string', id=None), 'input_ids': Sequence(feature=Value(dtype='int64', id=None), length=-1, id=None), 'attention_mask': Sequence(feature=Value(dtype='int64', id=None), length=-1, id=None), 'labels': Value(dtype='int64', id=None)}\n",
      "Unique labels in test data: tensor([0, 1, 2, 3])\n"
     ]
    },
    {
     "data": {
      "text/html": [
       "\n",
       "    <div>\n",
       "      \n",
       "      <progress value='662' max='662' style='width:300px; height:20px; vertical-align: middle;'></progress>\n",
       "      [662/662 00:03]\n",
       "    </div>\n",
       "    "
      ],
      "text/plain": [
       "<IPython.core.display.HTML object>"
      ]
     },
     "metadata": {},
     "output_type": "display_data"
    },
    {
     "name": "stdout",
     "output_type": "stream",
     "text": [
      "<transformers.trainer_utils.EvalPrediction object at 0x7f575e26b970>\n",
      "[0 2 0 ... 2 0 1]\n",
      "[0 1 2 ... 2 1 1]\n",
      "Tokenizing the data in batches . . .\n",
      "Dataset Features: {'text': Value(dtype='string', id=None), 'input_ids': Sequence(feature=Value(dtype='int64', id=None), length=-1, id=None), 'attention_mask': Sequence(feature=Value(dtype='int64', id=None), length=-1, id=None), 'labels': Value(dtype='int64', id=None)}\n",
      "Unique labels in test data: tensor([0, 1, 2, 3])\n"
     ]
    },
    {
     "data": {
      "text/html": [
       "\n",
       "    <div>\n",
       "      \n",
       "      <progress value='662' max='662' style='width:300px; height:20px; vertical-align: middle;'></progress>\n",
       "      [662/662 00:04]\n",
       "    </div>\n",
       "    "
      ],
      "text/plain": [
       "<IPython.core.display.HTML object>"
      ]
     },
     "metadata": {},
     "output_type": "display_data"
    },
    {
     "name": "stdout",
     "output_type": "stream",
     "text": [
      "<transformers.trainer_utils.EvalPrediction object at 0x7f56dcce86d0>\n",
      "[1 1 0 ... 2 2 1]\n",
      "[0 1 2 ... 2 1 1]\n",
      "Tokenizing the data in batches . . .\n",
      "Dataset Features: {'text': Value(dtype='string', id=None), 'input_ids': Sequence(feature=Value(dtype='int64', id=None), length=-1, id=None), 'attention_mask': Sequence(feature=Value(dtype='int64', id=None), length=-1, id=None), 'labels': Value(dtype='int64', id=None)}\n",
      "Unique labels in test data: tensor([0, 1, 2, 3])\n"
     ]
    },
    {
     "data": {
      "text/html": [
       "\n",
       "    <div>\n",
       "      \n",
       "      <progress value='116' max='116' style='width:300px; height:20px; vertical-align: middle;'></progress>\n",
       "      [116/116 00:00]\n",
       "    </div>\n",
       "    "
      ],
      "text/plain": [
       "<IPython.core.display.HTML object>"
      ]
     },
     "metadata": {},
     "output_type": "display_data"
    },
    {
     "name": "stdout",
     "output_type": "stream",
     "text": [
      "<transformers.trainer_utils.EvalPrediction object at 0x7f575e29b4c0>\n",
      "[0 1 2 1 1 0 0 0 0 3 0 0 3 1 1 0 0 0 3 3 0 0 0 1 0 1 0 3 2 1 0 0 1 0 3 3 0\n",
      " 0 0 1 0 0 1 0 2 1 0 3 0 0 2 0 2 1 0 2 2 2 2 0 3 0 1 1 0 1 3 0 1 3 0 2 2 0\n",
      " 0 0 1 0 0 1 2 3 3 0 0 2 3 0 3 2 1 1 1 3 0 1 0 1 0 2 0 1 0 0 1 1 3 2 3 0 0\n",
      " 0 3 1 0 3 0 0 1 2 2 0 0 3 2 0 2 2 3 2 1 0 0 2 0 1 3 2 2 3 0 0 1 1 3 1 0 3\n",
      " 0 1 0 0 0 0 0 3 0 2 0 1 0 0 3 1 0 1 0 0 0 0 1 0 3 0 1 1 0 0 3 0 0 0 2 1 3\n",
      " 2 2 0 3 3 2 0 0 1 0 0 0 0 0 0 3 0 2 0 0 0 0 0 2 2 2 2 0 1 0 0 3 0 1 2 0 1\n",
      " 0 1 0 0 0 2 0 2 0 0 0 0 2 2 1 0 2 0 0 3 0 1 1 0 0 0 0 0 3 1 0 0 1 0 0 0 0\n",
      " 0 0 1 0 3 0 0 0 1 0 3 0 2 0 3 3 0 0 0 1 0 0 0 0 0 0 0 0 0 2 0 3 0 2 1 2 2\n",
      " 0 0 1 0 3 0 1 0 1 0 0 0 2 0 3 0 2 1 2 0 0 0 0 0 0 0 0 0 0 0 3 3 0 0 1 0 0\n",
      " 0 0 0 0 0 0 1 3 0 0 2 0 3 1 0 3 0 0 0 0 0 0 2 0 0 3 2 0 0 0 3 0 0 3 0 3 0\n",
      " 3 0 2 3 1 0 0 0 0 1 0 0 1 1 1 2 0 0 1 0 3 0 0 0 0 0 3 2 1 2 0 0 0 0 0 0 0\n",
      " 0 0 1 0 0 0 0 0 0 1 1 0 0 3 0 0 2 1 0 0 0 0 1 1 0 0 2 0 1 0 3 0 2 0 0 0 0\n",
      " 3 0 2 0 1 1 0 0 0 0 3 1 0 0 0 3 0 0 0 0 0 0 3 3 2 1 0 0 0 0 0 0 0 0 0 0 0\n",
      " 0 3 0 0 1 2 0 0 0 0 0 0 0 1 0 0 2 0 0 0 3 3 0 0 2 1 0 0 0 0 3 0 0 1 2 0 2\n",
      " 0 1 0 0 0 0 0 0 2 0 0 0 0 0 0 0 0 3 0 0 2 0 0 3 0 3 0 0 0 0 0 0 0 2 3 0 0\n",
      " 3 0 2 0 0 0 0 0 0 0 2 0 0 0 1 3 2 2 0 0 0 2 1 2 1 3 0 0 0 0 0 0 0 0 0 0 3\n",
      " 0 1 0 0 0 2 0 0 0 1 0 0 0 0 0 0 0 0 3 0 3 0 0 0 0 0 0 3 0 2 0 0 0 3 0 0 3\n",
      " 0 0 0 0 2 0 0 3 0 1 3 0 0 3 0 0 0 2 0 3 0 0 2 0 0 0 0 1 0 3 0 1 0 1 1 1 0\n",
      " 0 0 0 1 0 0 0 0 0 0 0 0 0 3 0 0 0 1 1 0 0 2 0 0 0 2 3 0 2 0 3 0 0 0 2 0 0\n",
      " 0 0 0 0 0 0 0 0 0 0 3 1 1 0 0 0 3 2 3 2 2 0 1 0 0 3 2 0 2 0 3 0 1 0 0 0 2\n",
      " 2 0 3 0 2 2 0 0 0 0 0 1 3 0 0 0 0 0 0 1 0 1 1 0 2 1 0 2 1 0 0 2 0 0 3 0 2\n",
      " 0 0 0 0 0 3 0 0 0 2 0 0 0 2 2 1 0 1 2 0 2 0 0 1 2 3 0 0 3 3 1 0 0 1 0 0 0\n",
      " 0 3 3 0 0 2 0 0 3 0 0 0 0 0 0 0 2 2 1 2 0 3 0 2 0 2 0 3 1 2 0 2 2 0 3 2 0\n",
      " 2 0 0 0 0 0 1 3 3 0 1 0 2 2 1 2 0 0 2 0 0 0 2 0 0 0 0 0 2 0 0 1 0 1 3 1 0\n",
      " 0 2 1 0 0 0 0 3 0 1 0 0 0 1 0 2 3 1 0 0 2 0 0 0 1 0 2 3 0 3 0 3 3 2 3 0 3\n",
      " 0]\n",
      "[1 1 1 0 0 0 1 0 0 0 0 1 1 1 1 1 2 0 0 1 0 1 1 1 0 0 0 0 0 0 1 0 1 0 0 0 3\n",
      " 2 1 1 1 1 1 0 1 1 0 3 0 1 0 0 0 1 0 1 2 1 2 0 0 1 0 1 1 1 0 2 0 3 0 2 1 1\n",
      " 0 1 0 1 0 2 0 2 0 0 0 3 0 1 0 1 2 2 0 0 2 0 0 1 0 1 0 0 1 1 1 1 3 0 1 0 0\n",
      " 1 0 0 0 0 1 0 1 0 1 1 1 1 2 0 1 2 3 3 0 3 0 1 0 3 0 0 0 0 3 3 1 1 3 1 0 2\n",
      " 0 2 0 0 3 0 0 1 0 1 0 1 0 0 1 1 0 1 1 1 0 0 0 0 0 0 2 1 0 1 1 1 0 0 0 0 1\n",
      " 1 1 1 0 1 2 0 2 1 1 0 2 1 1 0 0 0 1 0 1 0 2 0 2 0 0 1 1 2 0 2 1 0 1 2 1 0\n",
      " 0 3 1 1 0 2 0 0 0 0 0 2 0 1 1 1 3 3 0 3 0 1 3 0 0 3 0 3 1 0 3 2 1 2 1 1 1\n",
      " 0 0 3 1 1 3 0 0 0 3 0 1 2 3 2 3 1 1 0 3 0 2 0 1 2 0 0 0 2 2 0 2 0 3 3 0 1\n",
      " 3 1 1 3 0 0 1 0 0 0 0 0 3 0 1 1 0 1 0 3 0 3 3 1 0 0 0 0 0 0 1 0 0 1 0 3 0\n",
      " 3 0 1 2 0 1 1 0 2 2 0 0 0 0 1 1 2 0 1 0 0 0 2 0 0 3 1 2 3 0 0 2 1 0 3 2 1\n",
      " 0 0 0 2 1 3 2 0 1 2 1 0 0 1 0 1 0 3 0 0 0 2 1 0 2 0 1 3 0 0 0 0 0 2 0 0 0\n",
      " 0 3 2 0 0 0 0 1 0 1 2 0 0 1 1 0 0 0 0 0 0 2 1 0 1 2 0 0 0 0 0 0 2 3 0 0 3\n",
      " 1 2 1 0 3 3 0 0 1 2 1 2 0 0 0 3 0 0 1 0 1 0 0 0 3 0 0 1 0 3 3 2 0 1 0 1 1\n",
      " 1 3 3 0 1 0 0 0 0 0 0 0 0 0 0 0 0 0 0 1 0 0 0 3 2 0 0 3 1 2 0 0 0 3 2 2 3\n",
      " 0 2 1 0 3 1 1 0 0 0 1 0 0 0 0 0 0 3 0 1 1 2 1 1 2 3 0 3 0 2 0 0 0 3 1 3 1\n",
      " 3 0 0 0 0 1 0 0 0 3 3 0 2 0 1 2 3 1 1 1 0 3 0 0 1 0 2 1 2 1 3 0 3 0 0 0 0\n",
      " 0 3 0 0 1 0 0 1 1 1 0 0 0 0 2 2 0 0 2 0 3 0 0 1 0 1 0 0 2 2 2 0 0 0 1 2 3\n",
      " 0 0 0 0 3 3 1 0 2 3 0 0 1 0 0 0 3 1 0 2 2 1 1 2 0 3 2 1 0 3 3 3 3 0 3 1 0\n",
      " 2 0 2 1 0 0 0 3 0 2 0 0 0 2 0 1 0 2 3 0 0 1 3 2 0 2 3 0 1 0 0 0 0 0 0 2 0\n",
      " 3 0 0 2 1 3 1 3 1 1 1 2 1 1 0 2 1 1 1 3 0 0 1 0 0 0 0 2 0 0 3 1 2 3 0 0 0\n",
      " 2 0 3 1 0 3 0 0 0 3 1 3 3 1 0 0 3 2 3 3 0 0 0 0 1 0 1 2 2 3 2 1 0 0 0 0 2\n",
      " 3 3 3 0 0 0 0 2 1 0 0 0 0 1 3 0 2 2 1 1 1 2 3 2 0 0 0 0 0 2 0 3 0 2 1 0 1\n",
      " 3 0 0 1 3 1 1 1 0 1 0 3 2 1 1 1 1 0 1 1 3 1 2 0 0 2 0 0 1 3 3 1 1 0 3 0 3\n",
      " 1 2 0 0 2 1 2 3 0 0 1 0 2 3 3 1 0 0 2 0 3 3 3 3 3 0 3 0 1 0 1 1 0 1 1 1 0\n",
      " 1 0 1 1 0 0 0 3 3 1 3 0 0 2 0 2 0 3 3 0 2 1 2 0 0 1 3 0 0 1 0 3 0 2 3 1 2\n",
      " 0]\n",
      "Tokenizing the data in batches . . .\n",
      "Dataset Features: {'text': Value(dtype='string', id=None), 'input_ids': Sequence(feature=Value(dtype='int64', id=None), length=-1, id=None), 'attention_mask': Sequence(feature=Value(dtype='int64', id=None), length=-1, id=None), 'labels': Value(dtype='int64', id=None)}\n",
      "Unique labels in test data: tensor([0, 1, 2, 3])\n"
     ]
    },
    {
     "data": {
      "text/html": [
       "\n",
       "    <div>\n",
       "      \n",
       "      <progress value='116' max='116' style='width:300px; height:20px; vertical-align: middle;'></progress>\n",
       "      [116/116 00:00]\n",
       "    </div>\n",
       "    "
      ],
      "text/plain": [
       "<IPython.core.display.HTML object>"
      ]
     },
     "metadata": {},
     "output_type": "display_data"
    },
    {
     "name": "stdout",
     "output_type": "stream",
     "text": [
      "<transformers.trainer_utils.EvalPrediction object at 0x7f56dcd1de10>\n",
      "[2 1 1 2 1 0 0 2 0 3 0 1 3 1 1 0 0 0 3 3 0 0 0 1 0 2 0 3 0 1 0 0 1 0 3 3 0\n",
      " 0 2 1 0 1 1 0 2 0 0 3 0 0 2 0 0 1 0 2 2 1 1 0 3 0 1 1 0 1 3 0 1 3 2 2 2 0\n",
      " 0 1 1 1 0 1 2 3 3 0 0 2 3 0 3 1 2 1 1 3 0 1 0 2 0 2 0 0 1 0 1 1 3 0 3 0 0\n",
      " 0 3 1 2 3 0 2 1 1 2 0 0 3 2 0 2 0 3 2 2 0 0 2 0 1 3 2 1 3 0 0 1 1 3 1 1 3\n",
      " 0 1 0 1 0 0 2 3 0 1 0 1 0 0 3 1 0 1 1 2 0 0 1 2 3 1 1 1 1 1 3 0 0 1 2 0 3\n",
      " 2 2 2 3 3 2 0 0 1 0 0 2 0 0 0 3 0 0 0 1 0 2 0 2 2 2 2 0 1 0 0 3 0 1 1 2 1\n",
      " 2 2 2 0 0 2 0 2 1 2 2 0 2 2 1 0 2 0 0 3 0 2 1 2 0 3 0 0 0 2 2 0 1 2 0 2 2\n",
      " 3 0 1 2 2 0 2 2 0 0 0 2 2 2 2 3 0 3 2 2 0 0 0 2 2 2 0 0 0 1 2 2 2 2 1 2 2\n",
      " 2 2 1 0 1 2 2 0 1 0 0 0 2 2 0 1 2 1 2 0 0 2 3 2 0 0 0 0 0 2 0 3 0 3 1 0 0\n",
      " 2 0 0 0 0 2 1 3 1 0 2 2 0 2 2 0 1 0 1 2 0 1 2 0 2 3 2 0 2 0 1 0 2 3 2 3 2\n",
      " 2 0 1 1 1 0 1 0 0 1 2 1 2 1 1 2 2 2 1 2 3 1 2 0 2 2 3 2 1 0 3 0 0 2 0 0 2\n",
      " 0 0 2 2 0 1 2 0 0 2 1 0 0 2 0 2 2 2 2 0 3 0 1 1 0 2 2 2 1 2 2 0 0 2 0 0 0\n",
      " 1 0 2 0 1 2 2 0 2 2 3 1 2 2 2 0 0 0 0 2 2 2 3 0 2 1 0 2 0 2 2 0 0 0 2 0 2\n",
      " 2 0 0 0 1 2 0 2 0 0 2 2 1 1 0 0 2 0 0 2 0 0 0 0 2 2 2 2 0 2 3 0 0 1 2 2 1\n",
      " 0 2 0 0 0 0 0 0 2 2 1 0 0 0 2 0 0 3 0 0 1 2 0 2 0 1 2 0 0 1 2 0 1 2 1 3 2\n",
      " 2 0 0 2 0 0 2 2 3 2 1 0 2 2 1 1 2 2 1 2 0 2 1 2 1 2 2 0 2 2 0 0 2 0 0 0 3\n",
      " 0 1 0 0 2 2 0 0 2 1 2 0 0 0 2 2 0 1 0 0 3 0 0 2 0 2 2 2 0 2 2 2 0 1 0 3 2\n",
      " 1 2 0 0 1 0 2 1 0 1 1 2 2 3 0 2 2 2 2 2 2 2 2 0 0 0 0 1 2 3 0 1 0 2 1 1 0\n",
      " 0 0 0 1 0 2 0 2 0 2 0 0 0 3 2 1 1 1 2 0 0 3 0 2 2 2 3 2 2 0 0 2 2 0 2 0 0\n",
      " 2 0 2 0 2 2 1 2 0 2 1 2 1 0 2 0 3 2 3 2 0 0 2 2 0 3 1 0 2 0 3 0 1 2 0 2 2\n",
      " 1 0 3 2 2 2 2 0 0 0 2 1 3 0 1 0 0 0 2 3 2 2 2 2 2 1 0 2 1 0 0 2 2 0 0 0 2\n",
      " 2 3 0 0 0 0 0 0 0 1 0 2 0 2 2 2 2 1 2 2 2 0 2 1 2 1 0 2 0 3 2 0 2 2 2 0 0\n",
      " 0 0 1 0 1 2 0 2 3 0 0 1 0 0 0 2 1 2 1 2 2 1 0 2 1 1 0 2 1 2 0 2 2 0 3 1 2\n",
      " 0 0 0 2 2 0 1 3 2 0 2 2 1 2 1 1 0 0 2 2 0 0 2 1 3 0 2 0 1 0 1 2 2 2 1 1 0\n",
      " 0 2 1 3 0 2 2 3 0 2 2 2 2 1 0 2 0 1 1 0 2 0 2 0 2 1 2 0 2 1 2 3 3 2 3 0 3\n",
      " 2]\n",
      "[1 1 1 0 0 0 1 0 0 0 0 1 1 1 1 1 2 0 0 1 0 1 1 1 0 0 0 0 0 0 1 0 1 0 0 0 3\n",
      " 2 1 1 1 1 1 0 1 1 0 3 0 1 0 0 0 1 0 1 2 1 2 0 0 1 0 1 1 1 0 2 0 3 0 2 1 1\n",
      " 0 1 0 1 0 2 0 2 0 0 0 3 0 1 0 1 2 2 0 0 2 0 0 1 0 1 0 0 1 1 1 1 3 0 1 0 0\n",
      " 1 0 0 0 0 1 0 1 0 1 1 1 1 2 0 1 2 3 3 0 3 0 1 0 3 0 0 0 0 3 3 1 1 3 1 0 2\n",
      " 0 2 0 0 3 0 0 1 0 1 0 1 0 0 1 1 0 1 1 1 0 0 0 0 0 0 2 1 0 1 1 1 0 0 0 0 1\n",
      " 1 1 1 0 1 2 0 2 1 1 0 2 1 1 0 0 0 1 0 1 0 2 0 2 0 0 1 1 2 0 2 1 0 1 2 1 0\n",
      " 0 3 1 1 0 2 0 0 0 0 0 2 0 1 1 1 3 3 0 3 0 1 3 0 0 3 0 3 1 0 3 2 1 2 1 1 1\n",
      " 0 0 3 1 1 3 0 0 0 3 0 1 2 3 2 3 1 1 0 3 0 2 0 1 2 0 0 0 2 2 0 2 0 3 3 0 1\n",
      " 3 1 1 3 0 0 1 0 0 0 0 0 3 0 1 1 0 1 0 3 0 3 3 1 0 0 0 0 0 0 1 0 0 1 0 3 0\n",
      " 3 0 1 2 0 1 1 0 2 2 0 0 0 0 1 1 2 0 1 0 0 0 2 0 0 3 1 2 3 0 0 2 1 0 3 2 1\n",
      " 0 0 0 2 1 3 2 0 1 2 1 0 0 1 0 1 0 3 0 0 0 2 1 0 2 0 1 3 0 0 0 0 0 2 0 0 0\n",
      " 0 3 2 0 0 0 0 1 0 1 2 0 0 1 1 0 0 0 0 0 0 2 1 0 1 2 0 0 0 0 0 0 2 3 0 0 3\n",
      " 1 2 1 0 3 3 0 0 1 2 1 2 0 0 0 3 0 0 1 0 1 0 0 0 3 0 0 1 0 3 3 2 0 1 0 1 1\n",
      " 1 3 3 0 1 0 0 0 0 0 0 0 0 0 0 0 0 0 0 1 0 0 0 3 2 0 0 3 1 2 0 0 0 3 2 2 3\n",
      " 0 2 1 0 3 1 1 0 0 0 1 0 0 0 0 0 0 3 0 1 1 2 1 1 2 3 0 3 0 2 0 0 0 3 1 3 1\n",
      " 3 0 0 0 0 1 0 0 0 3 3 0 2 0 1 2 3 1 1 1 0 3 0 0 1 0 2 1 2 1 3 0 3 0 0 0 0\n",
      " 0 3 0 0 1 0 0 1 1 1 0 0 0 0 2 2 0 0 2 0 3 0 0 1 0 1 0 0 2 2 2 0 0 0 1 2 3\n",
      " 0 0 0 0 3 3 1 0 2 3 0 0 1 0 0 0 3 1 0 2 2 1 1 2 0 3 2 1 0 3 3 3 3 0 3 1 0\n",
      " 2 0 2 1 0 0 0 3 0 2 0 0 0 2 0 1 0 2 3 0 0 1 3 2 0 2 3 0 1 0 0 0 0 0 0 2 0\n",
      " 3 0 0 2 1 3 1 3 1 1 1 2 1 1 0 2 1 1 1 3 0 0 1 0 0 0 0 2 0 0 3 1 2 3 0 0 0\n",
      " 2 0 3 1 0 3 0 0 0 3 1 3 3 1 0 0 3 2 3 3 0 0 0 0 1 0 1 2 2 3 2 1 0 0 0 0 2\n",
      " 3 3 3 0 0 0 0 2 1 0 0 0 0 1 3 0 2 2 1 1 1 2 3 2 0 0 0 0 0 2 0 3 0 2 1 0 1\n",
      " 3 0 0 1 3 1 1 1 0 1 0 3 2 1 1 1 1 0 1 1 3 1 2 0 0 2 0 0 1 3 3 1 1 0 3 0 3\n",
      " 1 2 0 0 2 1 2 3 0 0 1 0 2 3 3 1 0 0 2 0 3 3 3 3 3 0 3 0 1 0 1 1 0 1 1 1 0\n",
      " 1 0 1 1 0 0 0 3 3 1 3 0 0 2 0 2 0 3 3 0 2 1 2 0 0 1 3 0 0 1 0 3 0 2 3 1 2\n",
      " 0]\n",
      "Tokenizing the data in batches . . .\n",
      "Dataset Features: {'text': Value(dtype='string', id=None), 'input_ids': Sequence(feature=Value(dtype='int64', id=None), length=-1, id=None), 'attention_mask': Sequence(feature=Value(dtype='int64', id=None), length=-1, id=None), 'labels': Value(dtype='int64', id=None)}\n",
      "Unique labels in test data: tensor([0, 1, 2, 3])\n"
     ]
    },
    {
     "data": {
      "text/html": [
       "\n",
       "    <div>\n",
       "      \n",
       "      <progress value='821' max='821' style='width:300px; height:20px; vertical-align: middle;'></progress>\n",
       "      [821/821 00:04]\n",
       "    </div>\n",
       "    "
      ],
      "text/plain": [
       "<IPython.core.display.HTML object>"
      ]
     },
     "metadata": {},
     "output_type": "display_data"
    },
    {
     "name": "stdout",
     "output_type": "stream",
     "text": [
      "<transformers.trainer_utils.EvalPrediction object at 0x7f575e2994e0>\n",
      "[0 2 1 ... 0 1 1]\n",
      "[0 1 1 ... 1 0 1]\n",
      "Tokenizing the data in batches . . .\n",
      "Dataset Features: {'text': Value(dtype='string', id=None), 'input_ids': Sequence(feature=Value(dtype='int64', id=None), length=-1, id=None), 'attention_mask': Sequence(feature=Value(dtype='int64', id=None), length=-1, id=None), 'labels': Value(dtype='int64', id=None)}\n",
      "Unique labels in test data: tensor([0, 1, 2, 3])\n"
     ]
    },
    {
     "data": {
      "text/html": [
       "\n",
       "    <div>\n",
       "      \n",
       "      <progress value='821' max='821' style='width:300px; height:20px; vertical-align: middle;'></progress>\n",
       "      [821/821 00:05]\n",
       "    </div>\n",
       "    "
      ],
      "text/plain": [
       "<IPython.core.display.HTML object>"
      ]
     },
     "metadata": {},
     "output_type": "display_data"
    },
    {
     "name": "stdout",
     "output_type": "stream",
     "text": [
      "<transformers.trainer_utils.EvalPrediction object at 0x7f56dcd1e950>\n",
      "[2 1 1 ... 1 0 0]\n",
      "[0 1 1 ... 1 0 1]\n",
      "Tokenizing the data in batches . . .\n",
      "Dataset Features: {'text': Value(dtype='string', id=None), 'input_ids': Sequence(feature=Value(dtype='int64', id=None), length=-1, id=None), 'attention_mask': Sequence(feature=Value(dtype='int64', id=None), length=-1, id=None), 'labels': Value(dtype='int64', id=None)}\n",
      "Unique labels in test data: tensor([0, 1, 2, 3])\n"
     ]
    },
    {
     "data": {
      "text/html": [
       "\n",
       "    <div>\n",
       "      \n",
       "      <progress value='821' max='821' style='width:300px; height:20px; vertical-align: middle;'></progress>\n",
       "      [821/821 00:04]\n",
       "    </div>\n",
       "    "
      ],
      "text/plain": [
       "<IPython.core.display.HTML object>"
      ]
     },
     "metadata": {},
     "output_type": "display_data"
    },
    {
     "name": "stdout",
     "output_type": "stream",
     "text": [
      "<transformers.trainer_utils.EvalPrediction object at 0x7f575e36bbe0>\n",
      "[0 1 1 ... 1 0 0]\n",
      "[0 1 1 ... 1 0 1]\n",
      "Tokenizing the data in batches . . .\n",
      "Dataset Features: {'text': Value(dtype='string', id=None), 'input_ids': Sequence(feature=Value(dtype='int64', id=None), length=-1, id=None), 'attention_mask': Sequence(feature=Value(dtype='int64', id=None), length=-1, id=None), 'labels': Value(dtype='int64', id=None)}\n",
      "Unique labels in test data: tensor([0, 1, 2, 3])\n"
     ]
    },
    {
     "data": {
      "text/html": [
       "\n",
       "    <div>\n",
       "      \n",
       "      <progress value='821' max='821' style='width:300px; height:20px; vertical-align: middle;'></progress>\n",
       "      [821/821 00:05]\n",
       "    </div>\n",
       "    "
      ],
      "text/plain": [
       "<IPython.core.display.HTML object>"
      ]
     },
     "metadata": {},
     "output_type": "display_data"
    },
    {
     "name": "stdout",
     "output_type": "stream",
     "text": [
      "<transformers.trainer_utils.EvalPrediction object at 0x7f575e198100>\n",
      "[2 1 1 ... 1 1 1]\n",
      "[0 1 1 ... 1 0 1]\n",
      "Tokenizing the data in batches . . .\n",
      "Dataset Features: {'text': Value(dtype='string', id=None), 'input_ids': Sequence(feature=Value(dtype='int64', id=None), length=-1, id=None), 'attention_mask': Sequence(feature=Value(dtype='int64', id=None), length=-1, id=None), 'labels': Value(dtype='int64', id=None)}\n",
      "Unique labels in test data: tensor([0, 1, 2, 3])\n"
     ]
    },
    {
     "data": {
      "text/html": [
       "\n",
       "    <div>\n",
       "      \n",
       "      <progress value='821' max='821' style='width:300px; height:20px; vertical-align: middle;'></progress>\n",
       "      [821/821 00:04]\n",
       "    </div>\n",
       "    "
      ],
      "text/plain": [
       "<IPython.core.display.HTML object>"
      ]
     },
     "metadata": {},
     "output_type": "display_data"
    },
    {
     "name": "stdout",
     "output_type": "stream",
     "text": [
      "<transformers.trainer_utils.EvalPrediction object at 0x7f56dcd1f190>\n",
      "[2 2 1 ... 0 0 0]\n",
      "[0 1 1 ... 1 0 1]\n",
      "Tokenizing the data in batches . . .\n",
      "Dataset Features: {'text': Value(dtype='string', id=None), 'input_ids': Sequence(feature=Value(dtype='int64', id=None), length=-1, id=None), 'attention_mask': Sequence(feature=Value(dtype='int64', id=None), length=-1, id=None), 'labels': Value(dtype='int64', id=None)}\n",
      "Unique labels in test data: tensor([0, 1, 2, 3])\n"
     ]
    },
    {
     "data": {
      "text/html": [
       "\n",
       "    <div>\n",
       "      \n",
       "      <progress value='821' max='821' style='width:300px; height:20px; vertical-align: middle;'></progress>\n",
       "      [821/821 00:05]\n",
       "    </div>\n",
       "    "
      ],
      "text/plain": [
       "<IPython.core.display.HTML object>"
      ]
     },
     "metadata": {},
     "output_type": "display_data"
    },
    {
     "name": "stdout",
     "output_type": "stream",
     "text": [
      "<transformers.trainer_utils.EvalPrediction object at 0x7f56f69dfbe0>\n",
      "[2 1 1 ... 1 0 1]\n",
      "[0 1 1 ... 1 0 1]\n",
      "Tokenizing the data in batches . . .\n",
      "Dataset Features: {'text': Value(dtype='string', id=None), 'input_ids': Sequence(feature=Value(dtype='int64', id=None), length=-1, id=None), 'attention_mask': Sequence(feature=Value(dtype='int64', id=None), length=-1, id=None), 'labels': Value(dtype='int64', id=None)}\n",
      "Unique labels in test data: tensor([0, 1, 2, 3])\n"
     ]
    },
    {
     "data": {
      "text/html": [
       "\n",
       "    <div>\n",
       "      \n",
       "      <progress value='821' max='821' style='width:300px; height:20px; vertical-align: middle;'></progress>\n",
       "      [821/821 00:04]\n",
       "    </div>\n",
       "    "
      ],
      "text/plain": [
       "<IPython.core.display.HTML object>"
      ]
     },
     "metadata": {},
     "output_type": "display_data"
    },
    {
     "name": "stdout",
     "output_type": "stream",
     "text": [
      "<transformers.trainer_utils.EvalPrediction object at 0x7f56f4372cb0>\n",
      "[2 1 1 ... 0 0 0]\n",
      "[0 1 1 ... 1 0 1]\n",
      "Tokenizing the data in batches . . .\n",
      "Dataset Features: {'text': Value(dtype='string', id=None), 'input_ids': Sequence(feature=Value(dtype='int64', id=None), length=-1, id=None), 'attention_mask': Sequence(feature=Value(dtype='int64', id=None), length=-1, id=None), 'labels': Value(dtype='int64', id=None)}\n",
      "Unique labels in test data: tensor([0, 1, 2, 3])\n"
     ]
    },
    {
     "data": {
      "text/html": [
       "\n",
       "    <div>\n",
       "      \n",
       "      <progress value='821' max='821' style='width:300px; height:20px; vertical-align: middle;'></progress>\n",
       "      [821/821 00:05]\n",
       "    </div>\n",
       "    "
      ],
      "text/plain": [
       "<IPython.core.display.HTML object>"
      ]
     },
     "metadata": {},
     "output_type": "display_data"
    },
    {
     "name": "stdout",
     "output_type": "stream",
     "text": [
      "<transformers.trainer_utils.EvalPrediction object at 0x7f56f69f74c0>\n",
      "[2 1 1 ... 1 0 1]\n",
      "[0 1 1 ... 1 0 1]\n",
      "Tokenizing the data in batches . . .\n",
      "Dataset Features: {'text': Value(dtype='string', id=None), 'input_ids': Sequence(feature=Value(dtype='int64', id=None), length=-1, id=None), 'attention_mask': Sequence(feature=Value(dtype='int64', id=None), length=-1, id=None), 'labels': Value(dtype='int64', id=None)}\n",
      "Unique labels in test data: tensor([0, 1, 2, 3])\n"
     ]
    },
    {
     "data": {
      "text/html": [
       "\n",
       "    <div>\n",
       "      \n",
       "      <progress value='133' max='133' style='width:300px; height:20px; vertical-align: middle;'></progress>\n",
       "      [133/133 00:00]\n",
       "    </div>\n",
       "    "
      ],
      "text/plain": [
       "<IPython.core.display.HTML object>"
      ]
     },
     "metadata": {},
     "output_type": "display_data"
    },
    {
     "name": "stdout",
     "output_type": "stream",
     "text": [
      "<transformers.trainer_utils.EvalPrediction object at 0x7f56dcd1d4b0>\n",
      "[0 1 0 ... 1 2 2]\n",
      "[0 1 2 ... 1 2 1]\n",
      "Tokenizing the data in batches . . .\n",
      "Dataset Features: {'text': Value(dtype='string', id=None), 'input_ids': Sequence(feature=Value(dtype='int64', id=None), length=-1, id=None), 'attention_mask': Sequence(feature=Value(dtype='int64', id=None), length=-1, id=None), 'labels': Value(dtype='int64', id=None)}\n",
      "Unique labels in test data: tensor([0, 1, 2, 3])\n"
     ]
    },
    {
     "data": {
      "text/html": [
       "\n",
       "    <div>\n",
       "      \n",
       "      <progress value='133' max='133' style='width:300px; height:20px; vertical-align: middle;'></progress>\n",
       "      [133/133 00:00]\n",
       "    </div>\n",
       "    "
      ],
      "text/plain": [
       "<IPython.core.display.HTML object>"
      ]
     },
     "metadata": {},
     "output_type": "display_data"
    },
    {
     "name": "stdout",
     "output_type": "stream",
     "text": [
      "<transformers.trainer_utils.EvalPrediction object at 0x7f56f69f7820>\n",
      "[1 2 1 ... 1 2 1]\n",
      "[0 1 2 ... 1 2 1]\n",
      "Tokenizing the data in batches . . .\n",
      "Dataset Features: {'text': Value(dtype='string', id=None), 'input_ids': Sequence(feature=Value(dtype='int64', id=None), length=-1, id=None), 'attention_mask': Sequence(feature=Value(dtype='int64', id=None), length=-1, id=None), 'labels': Value(dtype='int64', id=None)}\n",
      "Unique labels in test data: tensor([0, 1, 2, 3])\n"
     ]
    },
    {
     "data": {
      "text/html": [
       "\n",
       "    <div>\n",
       "      \n",
       "      <progress value='821' max='821' style='width:300px; height:20px; vertical-align: middle;'></progress>\n",
       "      [821/821 00:04]\n",
       "    </div>\n",
       "    "
      ],
      "text/plain": [
       "<IPython.core.display.HTML object>"
      ]
     },
     "metadata": {},
     "output_type": "display_data"
    },
    {
     "name": "stdout",
     "output_type": "stream",
     "text": [
      "<transformers.trainer_utils.EvalPrediction object at 0x7f575e26d120>\n",
      "[2 1 1 ... 0 0 0]\n",
      "[0 1 1 ... 1 0 1]\n",
      "Tokenizing the data in batches . . .\n",
      "Dataset Features: {'text': Value(dtype='string', id=None), 'input_ids': Sequence(feature=Value(dtype='int64', id=None), length=-1, id=None), 'attention_mask': Sequence(feature=Value(dtype='int64', id=None), length=-1, id=None), 'labels': Value(dtype='int64', id=None)}\n",
      "Unique labels in test data: tensor([0, 1, 2, 3])\n"
     ]
    },
    {
     "data": {
      "text/html": [
       "\n",
       "    <div>\n",
       "      \n",
       "      <progress value='821' max='821' style='width:300px; height:20px; vertical-align: middle;'></progress>\n",
       "      [821/821 00:05]\n",
       "    </div>\n",
       "    "
      ],
      "text/plain": [
       "<IPython.core.display.HTML object>"
      ]
     },
     "metadata": {},
     "output_type": "display_data"
    },
    {
     "name": "stdout",
     "output_type": "stream",
     "text": [
      "<transformers.trainer_utils.EvalPrediction object at 0x7f575e25e1d0>\n",
      "[2 1 1 ... 0 0 0]\n",
      "[0 1 1 ... 1 0 1]\n",
      "Tokenizing the data in batches . . .\n",
      "Dataset Features: {'text': Value(dtype='string', id=None), 'input_ids': Sequence(feature=Value(dtype='int64', id=None), length=-1, id=None), 'attention_mask': Sequence(feature=Value(dtype='int64', id=None), length=-1, id=None), 'labels': Value(dtype='int64', id=None)}\n",
      "Unique labels in test data: tensor([0, 1, 2, 3])\n"
     ]
    },
    {
     "data": {
      "text/html": [
       "\n",
       "    <div>\n",
       "      \n",
       "      <progress value='821' max='821' style='width:300px; height:20px; vertical-align: middle;'></progress>\n",
       "      [821/821 00:04]\n",
       "    </div>\n",
       "    "
      ],
      "text/plain": [
       "<IPython.core.display.HTML object>"
      ]
     },
     "metadata": {},
     "output_type": "display_data"
    },
    {
     "name": "stdout",
     "output_type": "stream",
     "text": [
      "<transformers.trainer_utils.EvalPrediction object at 0x7f575e199240>\n",
      "[2 1 1 ... 1 0 0]\n",
      "[0 1 1 ... 1 0 1]\n",
      "Tokenizing the data in batches . . .\n",
      "Dataset Features: {'text': Value(dtype='string', id=None), 'input_ids': Sequence(feature=Value(dtype='int64', id=None), length=-1, id=None), 'attention_mask': Sequence(feature=Value(dtype='int64', id=None), length=-1, id=None), 'labels': Value(dtype='int64', id=None)}\n",
      "Unique labels in test data: tensor([0, 1, 2, 3])\n"
     ]
    },
    {
     "data": {
      "text/html": [
       "\n",
       "    <div>\n",
       "      \n",
       "      <progress value='821' max='821' style='width:300px; height:20px; vertical-align: middle;'></progress>\n",
       "      [821/821 00:05]\n",
       "    </div>\n",
       "    "
      ],
      "text/plain": [
       "<IPython.core.display.HTML object>"
      ]
     },
     "metadata": {},
     "output_type": "display_data"
    },
    {
     "name": "stdout",
     "output_type": "stream",
     "text": [
      "<transformers.trainer_utils.EvalPrediction object at 0x7f56dcd1fc40>\n",
      "[2 1 1 ... 1 1 1]\n",
      "[0 1 1 ... 1 0 1]\n",
      "Tokenizing the data in batches . . .\n",
      "Dataset Features: {'text': Value(dtype='string', id=None), 'input_ids': Sequence(feature=Value(dtype='int64', id=None), length=-1, id=None), 'attention_mask': Sequence(feature=Value(dtype='int64', id=None), length=-1, id=None), 'labels': Value(dtype='int64', id=None)}\n",
      "Unique labels in test data: tensor([0, 1, 2, 3])\n"
     ]
    },
    {
     "data": {
      "text/html": [
       "\n",
       "    <div>\n",
       "      \n",
       "      <progress value='821' max='821' style='width:300px; height:20px; vertical-align: middle;'></progress>\n",
       "      [821/821 00:04]\n",
       "    </div>\n",
       "    "
      ],
      "text/plain": [
       "<IPython.core.display.HTML object>"
      ]
     },
     "metadata": {},
     "output_type": "display_data"
    },
    {
     "name": "stdout",
     "output_type": "stream",
     "text": [
      "<transformers.trainer_utils.EvalPrediction object at 0x7f56f696cf70>\n",
      "[0 1 3 ... 0 2 1]\n",
      "[0 1 3 ... 2 1 1]\n",
      "Tokenizing the data in batches . . .\n",
      "Dataset Features: {'text': Value(dtype='string', id=None), 'input_ids': Sequence(feature=Value(dtype='int64', id=None), length=-1, id=None), 'attention_mask': Sequence(feature=Value(dtype='int64', id=None), length=-1, id=None), 'labels': Value(dtype='int64', id=None)}\n",
      "Unique labels in test data: tensor([0, 1, 2, 3])\n"
     ]
    },
    {
     "data": {
      "text/html": [
       "\n",
       "    <div>\n",
       "      \n",
       "      <progress value='821' max='821' style='width:300px; height:20px; vertical-align: middle;'></progress>\n",
       "      [821/821 00:05]\n",
       "    </div>\n",
       "    "
      ],
      "text/plain": [
       "<IPython.core.display.HTML object>"
      ]
     },
     "metadata": {},
     "output_type": "display_data"
    },
    {
     "name": "stdout",
     "output_type": "stream",
     "text": [
      "<transformers.trainer_utils.EvalPrediction object at 0x7f575e268b50>\n",
      "[1 1 3 ... 2 2 1]\n",
      "[0 1 3 ... 2 1 1]\n",
      "Tokenizing the data in batches . . .\n",
      "Dataset Features: {'text': Value(dtype='string', id=None), 'input_ids': Sequence(feature=Value(dtype='int64', id=None), length=-1, id=None), 'attention_mask': Sequence(feature=Value(dtype='int64', id=None), length=-1, id=None), 'labels': Value(dtype='int64', id=None)}\n",
      "Unique labels in test data: tensor([0, 1, 2, 3])\n"
     ]
    },
    {
     "data": {
      "text/html": [
       "\n",
       "    <div>\n",
       "      \n",
       "      <progress value='6498' max='6498' style='width:300px; height:20px; vertical-align: middle;'></progress>\n",
       "      [6498/6498 00:38]\n",
       "    </div>\n",
       "    "
      ],
      "text/plain": [
       "<IPython.core.display.HTML object>"
      ]
     },
     "metadata": {},
     "output_type": "display_data"
    },
    {
     "name": "stdout",
     "output_type": "stream",
     "text": [
      "<transformers.trainer_utils.EvalPrediction object at 0x7f56f69f5c90>\n",
      "[0 1 3 ... 0 0 0]\n",
      "[0 1 3 ... 1 0 1]\n",
      "Tokenizing the data in batches . . .\n",
      "Dataset Features: {'text': Value(dtype='string', id=None), 'input_ids': Sequence(feature=Value(dtype='int64', id=None), length=-1, id=None), 'attention_mask': Sequence(feature=Value(dtype='int64', id=None), length=-1, id=None), 'labels': Value(dtype='int64', id=None)}\n",
      "Unique labels in test data: tensor([0, 1, 2, 3])\n"
     ]
    },
    {
     "data": {
      "text/html": [
       "\n",
       "    <div>\n",
       "      \n",
       "      <progress value='6498' max='6498' style='width:300px; height:20px; vertical-align: middle;'></progress>\n",
       "      [6498/6498 00:45]\n",
       "    </div>\n",
       "    "
      ],
      "text/plain": [
       "<IPython.core.display.HTML object>"
      ]
     },
     "metadata": {},
     "output_type": "display_data"
    },
    {
     "name": "stdout",
     "output_type": "stream",
     "text": [
      "<transformers.trainer_utils.EvalPrediction object at 0x7f56dcd1d5a0>\n",
      "[0 0 3 ... 1 0 1]\n",
      "[0 1 3 ... 1 0 1]\n",
      "Tokenizing the data in batches . . .\n",
      "Dataset Features: {'text': Value(dtype='string', id=None), 'input_ids': Sequence(feature=Value(dtype='int64', id=None), length=-1, id=None), 'attention_mask': Sequence(feature=Value(dtype='int64', id=None), length=-1, id=None), 'labels': Value(dtype='int64', id=None)}\n",
      "Unique labels in test data: tensor([0, 1, 2, 3])\n"
     ]
    },
    {
     "data": {
      "text/html": [
       "\n",
       "    <div>\n",
       "      \n",
       "      <progress value='977' max='977' style='width:300px; height:20px; vertical-align: middle;'></progress>\n",
       "      [977/977 00:05]\n",
       "    </div>\n",
       "    "
      ],
      "text/plain": [
       "<IPython.core.display.HTML object>"
      ]
     },
     "metadata": {},
     "output_type": "display_data"
    },
    {
     "name": "stdout",
     "output_type": "stream",
     "text": [
      "<transformers.trainer_utils.EvalPrediction object at 0x7f56dcd1ffa0>\n",
      "[0 1 2 ... 0 2 1]\n",
      "[1 1 1 ... 2 1 1]\n",
      "Tokenizing the data in batches . . .\n",
      "Dataset Features: {'text': Value(dtype='string', id=None), 'input_ids': Sequence(feature=Value(dtype='int64', id=None), length=-1, id=None), 'attention_mask': Sequence(feature=Value(dtype='int64', id=None), length=-1, id=None), 'labels': Value(dtype='int64', id=None)}\n",
      "Unique labels in test data: tensor([0, 1, 2, 3])\n"
     ]
    },
    {
     "data": {
      "text/html": [
       "\n",
       "    <div>\n",
       "      \n",
       "      <progress value='977' max='977' style='width:300px; height:20px; vertical-align: middle;'></progress>\n",
       "      [977/977 00:06]\n",
       "    </div>\n",
       "    "
      ],
      "text/plain": [
       "<IPython.core.display.HTML object>"
      ]
     },
     "metadata": {},
     "output_type": "display_data"
    },
    {
     "name": "stdout",
     "output_type": "stream",
     "text": [
      "<transformers.trainer_utils.EvalPrediction object at 0x7f56f4657fd0>\n",
      "[2 1 1 ... 2 2 1]\n",
      "[1 1 1 ... 2 1 1]\n"
     ]
    }
   ],
   "source": [
    "# Main Function\n",
    "\n",
    "directory =\"multiemo\"\n",
    "model_names = [\n",
    "    \"bert-base-multilingual-cased\",\n",
    "    \"xlm-roberta-base\",\n",
    "]\n",
    "\n",
    "\n",
    "languages=['pl','pt-PT','zh','nl','en','it','es','ja','de','fr','ru']\n",
    "\n",
    "\n",
    "\n",
    "\n",
    "# Step 4: Evaluate models on test data\n",
    "overall_results = {}\n",
    "multilevel_results = {model: {\"sentence\": 0, \"text\": 0} for model in model_names}\n",
    "language_results = defaultdict(lambda: defaultdict(dict))\n",
    "\n",
    "print(\"Evaluation Model Performance . . .\")    \n",
    "# Process and evaluate models on merged language-wise data\n",
    "for lang in languages:\n",
    "    for model_name in all_models.keys():\n",
    "        tokenized_data = process_data(categorized_files[\"test\"]['by_language'][lang], tokenizers[model_name], label_map)\n",
    "        acc, f1 = evaluate_model(model_name, all_models[model_name], tokenized_data)\n",
    "        language_results[model_name][lang][\"f1\"] = f1\n",
    "\n",
    "# Process and evaluate models on merged level-wise data\n",
    "for level in ['sentence','text']:\n",
    "    for model_name in all_models.keys():\n",
    "        tokenized_data = process_data(categorized_files[\"test\"]['by_level'][level], tokenizers[model_name], label_map)\n",
    "        acc, f1 = evaluate_model(model_name, all_models[model_name], tokenized_data)\n",
    "        multilevel_results[model_name][level] = f1\n",
    "\n"
   ]
  },
  {
   "cell_type": "code",
   "execution_count": 20,
   "id": "1c28c071-c415-4e89-b729-94e7d05c5a71",
   "metadata": {},
   "outputs": [
    {
     "data": {
      "image/png": "[encoded data removed]",
      "text/plain": [
       "<Figure size 1000x600 with 1 Axes>"
      ]
     },
     "metadata": {},
     "output_type": "display_data"
    },
    {
     "data": {
      "image/png": "[encoded data removed]",
      "text/plain": [
       "<Figure size 1200x600 with 1 Axes>"
      ]
     },
     "metadata": {},
     "output_type": "display_data"
    }
   ],
   "source": [
    "# Step 6: Visualize results\n",
    "plot_multilevel_performance(multilevel_results)\n",
    "plot_language_performance(language_results)"
   ]
  },
  {
   "cell_type": "code",
   "execution_count": null,
   "id": "89bf3b49-3568-408e-b46d-9af2e262ea1f",
   "metadata": {},
   "outputs": [],
   "source": []
  }
 ],
 "metadata": {
  "kernelspec": {
   "display_name": "Python 3 (ipykernel)",
   "language": "python",
   "name": "python3"
  },
  "language_info": {
   "codemirror_mode": {
    "name": "ipython",
    "version": 3
   },
   "file_extension": ".py",
   "mimetype": "text/x-python",
   "name": "python",
   "nbconvert_exporter": "python",
   "pygments_lexer": "ipython3",
   "version": "3.10.14"
  }
 },
 "nbformat": 4,
 "nbformat_minor": 5
}
